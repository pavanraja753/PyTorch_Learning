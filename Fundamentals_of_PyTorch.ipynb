{
  "nbformat": 4,
  "nbformat_minor": 0,
  "metadata": {
    "colab": {
      "name": "Fundamentals_of_PyTorch",
      "provenance": [],
      "authorship_tag": "ABX9TyPloziLb1bN5EMxR+JAmgaP",
      "include_colab_link": true
    },
    "kernelspec": {
      "name": "python3",
      "display_name": "Python 3"
    },
    "language_info": {
      "name": "python"
    }
  },
  "cells": [
    {
      "cell_type": "markdown",
      "metadata": {
        "id": "view-in-github",
        "colab_type": "text"
      },
      "source": [
        "<a href=\"https://colab.research.google.com/github/pavanraja753/PyTorch_Learning/blob/main/Fundamentals_of_PyTorch.ipynb\" target=\"_parent\"><img src=\"https://colab.research.google.com/assets/colab-badge.svg\" alt=\"Open In Colab\"/></a>"
      ]
    },
    {
      "cell_type": "markdown",
      "source": [
        "## Introduction\n",
        "\n",
        "1. PyTorch is an open-source deep learning framework\n",
        "\n",
        "2. Major components\n",
        "\n",
        "  1. PyTorch Tensors\n",
        "  2. NN Module\n",
        "  3. Optim Module\n",
        "  4. Autograd module\n",
        "\n",
        "3. How do I install PyTorch\n",
        "\n",
        "  1. pip3 install torch torchvision\n",
        "  2. conda install pytorch torchvision -c pytorch"
      ],
      "metadata": {
        "id": "cWsc-AersIq5"
      }
    },
    {
      "cell_type": "markdown",
      "source": [
        "# Contents\n",
        "\n",
        "1. Introduction\n",
        "2. Contents\n",
        "3. PyTorch Tensors"
      ],
      "metadata": {
        "id": "qf6YixnVskRA"
      }
    },
    {
      "cell_type": "code",
      "execution_count": 1,
      "metadata": {
        "colab": {
          "base_uri": "https://localhost:8080/"
        },
        "id": "G4ezrKm3r-FV",
        "outputId": "a4f8002f-5fc5-4e0c-9e5c-3015c138cddd"
      },
      "outputs": [
        {
          "output_type": "execute_result",
          "data": {
            "text/plain": [
              "<torch._C.Generator at 0x7fe09eb21eb0>"
            ]
          },
          "metadata": {},
          "execution_count": 1
        }
      ],
      "source": [
        "import torch\n",
        "torch.manual_seed(0)"
      ]
    },
    {
      "cell_type": "code",
      "source": [
        "# Creating tensorrs without data\n",
        "\n",
        "t1 = torch.ones(size=(5,3))\n",
        "t2 = torch.zeros(size=(5,3))\n",
        "t3 = torch.eye(3)\n",
        "t4 = torch.rand(size=(3,4))\n",
        "t5 = torch.arange(7)\n",
        "\n",
        "print(t1)\n",
        "print(t2)\n",
        "print(t3)\n",
        "print(t4)\n",
        "print(t5)"
      ],
      "metadata": {
        "colab": {
          "base_uri": "https://localhost:8080/"
        },
        "id": "oL5CPeU1stjW",
        "outputId": "020f7677-8a3b-4181-b1d1-48e2b1cf1b9d"
      },
      "execution_count": 2,
      "outputs": [
        {
          "output_type": "stream",
          "name": "stdout",
          "text": [
            "tensor([[1., 1., 1.],\n",
            "        [1., 1., 1.],\n",
            "        [1., 1., 1.],\n",
            "        [1., 1., 1.],\n",
            "        [1., 1., 1.]])\n",
            "tensor([[0., 0., 0.],\n",
            "        [0., 0., 0.],\n",
            "        [0., 0., 0.],\n",
            "        [0., 0., 0.],\n",
            "        [0., 0., 0.]])\n",
            "tensor([[1., 0., 0.],\n",
            "        [0., 1., 0.],\n",
            "        [0., 0., 1.]])\n",
            "tensor([[0.4963, 0.7682, 0.0885, 0.1320],\n",
            "        [0.3074, 0.6341, 0.4901, 0.8964],\n",
            "        [0.4556, 0.6323, 0.3489, 0.4017]])\n",
            "tensor([0, 1, 2, 3, 4, 5, 6])\n"
          ]
        }
      ]
    },
    {
      "cell_type": "code",
      "source": [
        "# Creating tensors from existing data (most common cases)\n",
        "\n",
        "import numpy as np\n",
        "\n",
        "t1 = torch.tensor([1,2,3,4]) # from numpy list\n",
        "t2 = torch.tensor(np.array([1,2,3,4])) # from numpy array\n",
        "t3 = torch.tensor(np.random.randn(3))  # from numpy array\n",
        "t4 = t3.clone().detach() # from existing torch tensor\n",
        "\n",
        "# creating the copy of a Torch tensor\n",
        "\n",
        "print(t1)\n",
        "print(t2)\n",
        "print(t3)\n",
        "print(t4)"
      ],
      "metadata": {
        "colab": {
          "base_uri": "https://localhost:8080/"
        },
        "id": "Wnr52nZBxaYZ",
        "outputId": "08a26431-f502-4522-e7f5-d45bb515b63f"
      },
      "execution_count": 4,
      "outputs": [
        {
          "output_type": "stream",
          "name": "stdout",
          "text": [
            "tensor([1, 2, 3, 4])\n",
            "tensor([1, 2, 3, 4])\n",
            "tensor([-0.3367, -0.8957, -1.2319], dtype=torch.float64)\n",
            "tensor([-0.3367, -0.8957, -1.2319], dtype=torch.float64)\n"
          ]
        }
      ]
    },
    {
      "cell_type": "code",
      "source": [
        "# Converting tensor to numpy array\n",
        "\n",
        "t1 = torch.tensor([1,2,3,4])\n",
        "t2 = t1.detach().numpy()\n",
        "\n",
        "print('Tensor',t1)\n",
        "print('Numpy',t2)"
      ],
      "metadata": {
        "colab": {
          "base_uri": "https://localhost:8080/"
        },
        "id": "rL_e501Pylzn",
        "outputId": "d0dba53b-22d3-43f2-9467-12daee064937"
      },
      "execution_count": 5,
      "outputs": [
        {
          "output_type": "stream",
          "name": "stdout",
          "text": [
            "Tensor tensor([1, 2, 3, 4])\n",
            "Numpy [1 2 3 4]\n"
          ]
        }
      ]
    },
    {
      "cell_type": "markdown",
      "source": [
        "## Accessing Tensors\n",
        "\n",
        "**Note:** Tensor values can easily be modified by using the accessing method to select the desired selection of the tensor to be modified"
      ],
      "metadata": {
        "id": "qhYifLJPy8ho"
      }
    },
    {
      "cell_type": "code",
      "source": [
        "# Basic\n",
        "\n",
        "t = torch.rand(size=(3,4,5))\n",
        "\n",
        "print('Original Tensor t:')\n",
        "print(t)\n",
        "print('\\n')\n",
        "\n",
        "# Some valid ways of accessing individual elemets in the tensor\n",
        "print('t[0][0][0]\\n',t[0][0][0])\n",
        "print('t[1,2,3]\\n',t[1,2,3])\n",
        "print('t[1,2][3]\\n',t[1,2][3])\n",
        "\n",
        "# Tensor Slicing\n",
        "\n",
        "print('t[0]\\n', t[0])\n",
        "print('t[:1]\\n', t[:1])\n",
        "print('t[:,1]\\n',t[:,1])\n",
        "print('t[:,:,3]\\n',t[:,:,3])"
      ],
      "metadata": {
        "colab": {
          "base_uri": "https://localhost:8080/"
        },
        "id": "glcn46Cay6P6",
        "outputId": "9354babe-aaeb-43df-b5a8-dd2dee32fa65"
      },
      "execution_count": 12,
      "outputs": [
        {
          "output_type": "stream",
          "name": "stdout",
          "text": [
            "Original Tensor t:\n",
            "tensor([[[0.1220, 0.2560, 0.0170, 0.2161, 0.9112],\n",
            "         [0.9094, 0.8579, 0.8861, 0.9446, 0.3720],\n",
            "         [0.7200, 0.9455, 0.6654, 0.9998, 0.7593],\n",
            "         [0.8108, 0.3250, 0.7399, 0.5575, 0.3806]],\n",
            "\n",
            "        [[0.2181, 0.2194, 0.1153, 0.8357, 0.8555],\n",
            "         [0.4431, 0.2107, 0.8865, 0.8197, 0.5372],\n",
            "         [0.2639, 0.9595, 0.7045, 0.1204, 0.9785],\n",
            "         [0.8797, 0.3178, 0.7811, 0.2159, 0.4216]],\n",
            "\n",
            "        [[0.9246, 0.5207, 0.1464, 0.3329, 0.3643],\n",
            "         [0.4035, 0.5479, 0.9624, 0.5268, 0.1913],\n",
            "         [0.5256, 0.7397, 0.7480, 0.0430, 0.4105],\n",
            "         [0.1284, 0.2867, 0.6801, 0.1449, 0.6859]]])\n",
            "\n",
            "\n",
            "t[0][0][0]\n",
            " tensor(0.1220)\n",
            "t[1,2,3]\n",
            " tensor(0.1204)\n",
            "t[1,2][3]\n",
            " tensor(0.1204)\n",
            "t[0]\n",
            " tensor([[0.1220, 0.2560, 0.0170, 0.2161, 0.9112],\n",
            "        [0.9094, 0.8579, 0.8861, 0.9446, 0.3720],\n",
            "        [0.7200, 0.9455, 0.6654, 0.9998, 0.7593],\n",
            "        [0.8108, 0.3250, 0.7399, 0.5575, 0.3806]])\n",
            "t[:1]\n",
            " tensor([[[0.1220, 0.2560, 0.0170, 0.2161, 0.9112],\n",
            "         [0.9094, 0.8579, 0.8861, 0.9446, 0.3720],\n",
            "         [0.7200, 0.9455, 0.6654, 0.9998, 0.7593],\n",
            "         [0.8108, 0.3250, 0.7399, 0.5575, 0.3806]]])\n",
            "t[:,1]\n",
            " tensor([[0.9094, 0.8579, 0.8861, 0.9446, 0.3720],\n",
            "        [0.4431, 0.2107, 0.8865, 0.8197, 0.5372],\n",
            "        [0.4035, 0.5479, 0.9624, 0.5268, 0.1913]])\n",
            "t[:,:,3]\n",
            " tensor([[0.2161, 0.9446, 0.9998, 0.5575],\n",
            "        [0.8357, 0.8197, 0.1204, 0.2159],\n",
            "        [0.3329, 0.5268, 0.0430, 0.1449]])\n"
          ]
        }
      ]
    },
    {
      "cell_type": "markdown",
      "source": [
        "## Pivoting and Reshaping Tensors\n",
        "\n",
        "1. Flatten\n",
        "2. Squeeze\n",
        "3. Reshape\n",
        "4. View\n",
        "5. Transpose\n",
        "6. Permute\n",
        "\n",
        "**Important stuff**\n"
      ],
      "metadata": {
        "id": "m_GuHeYt1Tht"
      }
    },
    {
      "cell_type": "code",
      "source": [
        "# Flatten a tensor\n",
        "\n",
        "# Flatten the entire tensor. Elements are exhausted in the last dimension first when flattening 1.e t[0,0,0] is followed by t[0,0,1] and so on\n",
        "print(t)\n",
        "print(t.flatten())"
      ],
      "metadata": {
        "colab": {
          "base_uri": "https://localhost:8080/"
        },
        "id": "G9uiMYbHzuPV",
        "outputId": "ab0fb79f-a368-4567-af0b-20fe05b02788"
      },
      "execution_count": 13,
      "outputs": [
        {
          "output_type": "stream",
          "name": "stdout",
          "text": [
            "tensor([[[0.1220, 0.2560, 0.0170, 0.2161, 0.9112],\n",
            "         [0.9094, 0.8579, 0.8861, 0.9446, 0.3720],\n",
            "         [0.7200, 0.9455, 0.6654, 0.9998, 0.7593],\n",
            "         [0.8108, 0.3250, 0.7399, 0.5575, 0.3806]],\n",
            "\n",
            "        [[0.2181, 0.2194, 0.1153, 0.8357, 0.8555],\n",
            "         [0.4431, 0.2107, 0.8865, 0.8197, 0.5372],\n",
            "         [0.2639, 0.9595, 0.7045, 0.1204, 0.9785],\n",
            "         [0.8797, 0.3178, 0.7811, 0.2159, 0.4216]],\n",
            "\n",
            "        [[0.9246, 0.5207, 0.1464, 0.3329, 0.3643],\n",
            "         [0.4035, 0.5479, 0.9624, 0.5268, 0.1913],\n",
            "         [0.5256, 0.7397, 0.7480, 0.0430, 0.4105],\n",
            "         [0.1284, 0.2867, 0.6801, 0.1449, 0.6859]]])\n",
            "tensor([0.1220, 0.2560, 0.0170, 0.2161, 0.9112, 0.9094, 0.8579, 0.8861, 0.9446,\n",
            "        0.3720, 0.7200, 0.9455, 0.6654, 0.9998, 0.7593, 0.8108, 0.3250, 0.7399,\n",
            "        0.5575, 0.3806, 0.2181, 0.2194, 0.1153, 0.8357, 0.8555, 0.4431, 0.2107,\n",
            "        0.8865, 0.8197, 0.5372, 0.2639, 0.9595, 0.7045, 0.1204, 0.9785, 0.8797,\n",
            "        0.3178, 0.7811, 0.2159, 0.4216, 0.9246, 0.5207, 0.1464, 0.3329, 0.3643,\n",
            "        0.4035, 0.5479, 0.9624, 0.5268, 0.1913, 0.5256, 0.7397, 0.7480, 0.0430,\n",
            "        0.4105, 0.1284, 0.2867, 0.6801, 0.1449, 0.6859])\n"
          ]
        }
      ]
    },
    {
      "cell_type": "code",
      "source": [
        "# Squeeze and Unsqueeze tensors\n",
        "# Unsqueeze and squeeze are very handy commands to add and remove a dimension from the tensor\n",
        "\n",
        "ts = t.unsqueeze(0)\n",
        "ts2 = t.unsqueeze(1)\n",
        "\n",
        "print(t)\n",
        "print(t.shape)\n",
        "print(ts)\n",
        "print(ts.shape)\n",
        "\n",
        "print(ts2)\n",
        "print(ts2.shape)\n",
        "\n",
        "print(ts.squeeze(3))  "
      ],
      "metadata": {
        "id": "TiU3Sfgx2N8G"
      },
      "execution_count": null,
      "outputs": []
    },
    {
      "cell_type": "code",
      "source": [
        "# Reshape tensor\n",
        "\n",
        "print(t.reshape(12,5))\n",
        "print(t.reshape(12,-1))\n",
        "print(t.reshape(5,4,3))\n",
        "print(t.reshape(-1))\n",
        "\n",
        "# View also does the similar thing, but we dont have to use this"
      ],
      "metadata": {
        "colab": {
          "base_uri": "https://localhost:8080/"
        },
        "id": "zP1ayFZa20GS",
        "outputId": "91b8580b-8a05-44bd-f61d-c9f04455584a"
      },
      "execution_count": 20,
      "outputs": [
        {
          "output_type": "stream",
          "name": "stdout",
          "text": [
            "tensor([[0.1220, 0.2560, 0.0170, 0.2161, 0.9112],\n",
            "        [0.9094, 0.8579, 0.8861, 0.9446, 0.3720],\n",
            "        [0.7200, 0.9455, 0.6654, 0.9998, 0.7593],\n",
            "        [0.8108, 0.3250, 0.7399, 0.5575, 0.3806],\n",
            "        [0.2181, 0.2194, 0.1153, 0.8357, 0.8555],\n",
            "        [0.4431, 0.2107, 0.8865, 0.8197, 0.5372],\n",
            "        [0.2639, 0.9595, 0.7045, 0.1204, 0.9785],\n",
            "        [0.8797, 0.3178, 0.7811, 0.2159, 0.4216],\n",
            "        [0.9246, 0.5207, 0.1464, 0.3329, 0.3643],\n",
            "        [0.4035, 0.5479, 0.9624, 0.5268, 0.1913],\n",
            "        [0.5256, 0.7397, 0.7480, 0.0430, 0.4105],\n",
            "        [0.1284, 0.2867, 0.6801, 0.1449, 0.6859]])\n",
            "tensor([[0.1220, 0.2560, 0.0170, 0.2161, 0.9112],\n",
            "        [0.9094, 0.8579, 0.8861, 0.9446, 0.3720],\n",
            "        [0.7200, 0.9455, 0.6654, 0.9998, 0.7593],\n",
            "        [0.8108, 0.3250, 0.7399, 0.5575, 0.3806],\n",
            "        [0.2181, 0.2194, 0.1153, 0.8357, 0.8555],\n",
            "        [0.4431, 0.2107, 0.8865, 0.8197, 0.5372],\n",
            "        [0.2639, 0.9595, 0.7045, 0.1204, 0.9785],\n",
            "        [0.8797, 0.3178, 0.7811, 0.2159, 0.4216],\n",
            "        [0.9246, 0.5207, 0.1464, 0.3329, 0.3643],\n",
            "        [0.4035, 0.5479, 0.9624, 0.5268, 0.1913],\n",
            "        [0.5256, 0.7397, 0.7480, 0.0430, 0.4105],\n",
            "        [0.1284, 0.2867, 0.6801, 0.1449, 0.6859]])\n",
            "tensor([[[0.1220, 0.2560, 0.0170],\n",
            "         [0.2161, 0.9112, 0.9094],\n",
            "         [0.8579, 0.8861, 0.9446],\n",
            "         [0.3720, 0.7200, 0.9455]],\n",
            "\n",
            "        [[0.6654, 0.9998, 0.7593],\n",
            "         [0.8108, 0.3250, 0.7399],\n",
            "         [0.5575, 0.3806, 0.2181],\n",
            "         [0.2194, 0.1153, 0.8357]],\n",
            "\n",
            "        [[0.8555, 0.4431, 0.2107],\n",
            "         [0.8865, 0.8197, 0.5372],\n",
            "         [0.2639, 0.9595, 0.7045],\n",
            "         [0.1204, 0.9785, 0.8797]],\n",
            "\n",
            "        [[0.3178, 0.7811, 0.2159],\n",
            "         [0.4216, 0.9246, 0.5207],\n",
            "         [0.1464, 0.3329, 0.3643],\n",
            "         [0.4035, 0.5479, 0.9624]],\n",
            "\n",
            "        [[0.5268, 0.1913, 0.5256],\n",
            "         [0.7397, 0.7480, 0.0430],\n",
            "         [0.4105, 0.1284, 0.2867],\n",
            "         [0.6801, 0.1449, 0.6859]]])\n",
            "tensor([0.1220, 0.2560, 0.0170, 0.2161, 0.9112, 0.9094, 0.8579, 0.8861, 0.9446,\n",
            "        0.3720, 0.7200, 0.9455, 0.6654, 0.9998, 0.7593, 0.8108, 0.3250, 0.7399,\n",
            "        0.5575, 0.3806, 0.2181, 0.2194, 0.1153, 0.8357, 0.8555, 0.4431, 0.2107,\n",
            "        0.8865, 0.8197, 0.5372, 0.2639, 0.9595, 0.7045, 0.1204, 0.9785, 0.8797,\n",
            "        0.3178, 0.7811, 0.2159, 0.4216, 0.9246, 0.5207, 0.1464, 0.3329, 0.3643,\n",
            "        0.4035, 0.5479, 0.9624, 0.5268, 0.1913, 0.5256, 0.7397, 0.7480, 0.0430,\n",
            "        0.4105, 0.1284, 0.2867, 0.6801, 0.1449, 0.6859])\n"
          ]
        }
      ]
    },
    {
      "cell_type": "code",
      "source": [
        "# Transpose Tensor\n",
        "# This operation is primarly a generalization of the regular matrix transopse\n",
        "\n",
        "\n",
        "# Can be only between two axis\n",
        "\n",
        "t = torch.tensor([[[1,2,3,4],[5,6,7,8],[0,10,11,12]],[[-1,-2,-3,-4],[-5,-6,-7,-8],[-9,-10,-11,-12]]])\n",
        "print(t.shape)\n",
        "print(t)\n",
        "print('\\n')\n",
        "\n",
        "print(t.transpose(0,1).shape)\n",
        "print(t.transpose(0,1))\n",
        "print('\\n')\n",
        "\n",
        "print(t.transpose(0,2).shape)\n",
        "print(t.transpose(0,2))\n",
        "print('\\n')"
      ],
      "metadata": {
        "colab": {
          "base_uri": "https://localhost:8080/"
        },
        "id": "vVTioR2Q4aS8",
        "outputId": "b439222e-19ea-424e-e858-9abdf1b8c547"
      },
      "execution_count": 26,
      "outputs": [
        {
          "output_type": "stream",
          "name": "stdout",
          "text": [
            "torch.Size([2, 3, 4])\n",
            "tensor([[[  1,   2,   3,   4],\n",
            "         [  5,   6,   7,   8],\n",
            "         [  0,  10,  11,  12]],\n",
            "\n",
            "        [[ -1,  -2,  -3,  -4],\n",
            "         [ -5,  -6,  -7,  -8],\n",
            "         [ -9, -10, -11, -12]]])\n",
            "\n",
            "\n",
            "torch.Size([3, 2, 4])\n",
            "tensor([[[  1,   2,   3,   4],\n",
            "         [ -1,  -2,  -3,  -4]],\n",
            "\n",
            "        [[  5,   6,   7,   8],\n",
            "         [ -5,  -6,  -7,  -8]],\n",
            "\n",
            "        [[  0,  10,  11,  12],\n",
            "         [ -9, -10, -11, -12]]])\n",
            "\n",
            "\n",
            "torch.Size([4, 3, 2])\n",
            "tensor([[[  1,  -1],\n",
            "         [  5,  -5],\n",
            "         [  0,  -9]],\n",
            "\n",
            "        [[  2,  -2],\n",
            "         [  6,  -6],\n",
            "         [ 10, -10]],\n",
            "\n",
            "        [[  3,  -3],\n",
            "         [  7,  -7],\n",
            "         [ 11, -11]],\n",
            "\n",
            "        [[  4,  -4],\n",
            "         [  8,  -8],\n",
            "         [ 12, -12]]])\n",
            "\n",
            "\n"
          ]
        }
      ]
    },
    {
      "cell_type": "code",
      "source": [
        "# Permute tensor\n",
        "# This operation allows the used to simultaneoly reorderd multiple dimensions unlike trnaspose which interchanges two dimensions only\n",
        "\n",
        "t = torch.tensor([[[1,2,3,4],[5,6,7,8],[0,10,11,12]],[[-1,-2,-3,-4],[-5,-6,-7,-8],[-9,-10,-11,-12]]])\n",
        "print(t.shape)\n",
        "print(t)\n",
        "print('\\n')\n",
        "\n",
        "print(t.permute(1,0,2).shape)\n",
        "print(t.permute(1,0,2))\n",
        "print('\\n')\n"
      ],
      "metadata": {
        "colab": {
          "base_uri": "https://localhost:8080/"
        },
        "id": "2WVT8HQS5Cl3",
        "outputId": "c56ce504-8325-4c47-f20d-ea0ff87018b1"
      },
      "execution_count": 29,
      "outputs": [
        {
          "output_type": "stream",
          "name": "stdout",
          "text": [
            "torch.Size([2, 3, 4])\n",
            "tensor([[[  1,   2,   3,   4],\n",
            "         [  5,   6,   7,   8],\n",
            "         [  0,  10,  11,  12]],\n",
            "\n",
            "        [[ -1,  -2,  -3,  -4],\n",
            "         [ -5,  -6,  -7,  -8],\n",
            "         [ -9, -10, -11, -12]]])\n",
            "\n",
            "\n",
            "torch.Size([3, 2, 4])\n",
            "tensor([[[  1,   2,   3,   4],\n",
            "         [ -1,  -2,  -3,  -4]],\n",
            "\n",
            "        [[  5,   6,   7,   8],\n",
            "         [ -5,  -6,  -7,  -8]],\n",
            "\n",
            "        [[  0,  10,  11,  12],\n",
            "         [ -9, -10, -11, -12]]])\n",
            "\n",
            "\n"
          ]
        }
      ]
    },
    {
      "cell_type": "markdown",
      "source": [
        "# Why Numpy\n",
        "\n",
        "- Lists are designed to store heterogenous data\n",
        "- No low-level hardware mechanisms to accelerate operations on lists\n",
        "- Most Processors involve vectorization\n",
        "\n",
        "This is why Numpy\n",
        "\n",
        "- Started only in 2006\n",
        "- Now a standard package\n",
        "\n",
        "Indetnd to bring performance and functionality improvements\n",
        "\n",
        "\n",
        "- Efficiently store n-d arrays in vectorised form to benifit from DRAM locality\n",
        "- Enable easy file save and load of n-d arrays\n",
        "- Efficiently process data without type-checking overhead\n",
        "- Enable other packages to use numpy arrays as an efficient data interface\n",
        "- Efficiently broadcast operations across dimensions\n",
        "- Provided implementations of many functions across linear algebra, statistics\n"
      ],
      "metadata": {
        "id": "qEc3IgYe7pvj"
      }
    },
    {
      "cell_type": "markdown",
      "source": [
        "## What we will focus on\n",
        "\n",
        "1. What are n-d arrays\n",
        "2. What is broadcasting\n",
        "3. How to load and save n-d arrays\n",
        "4. How to use statistical functions"
      ],
      "metadata": {
        "id": "7ucPa6ic9FTK"
      }
    },
    {
      "cell_type": "markdown",
      "source": [
        "## Comparing performance with lists, etc."
      ],
      "metadata": {
        "id": "Lm1GSsfn9afz"
      }
    },
    {
      "cell_type": "code",
      "source": [
        "N = 100000000"
      ],
      "metadata": {
        "id": "jOrPcuE16Nju"
      },
      "execution_count": 30,
      "outputs": []
    },
    {
      "cell_type": "code",
      "source": [
        "%%time\n",
        "list_= list(range(N))\n",
        "for i in range(N):\n",
        "    list_[i] = list_[i] **2"
      ],
      "metadata": {
        "colab": {
          "base_uri": "https://localhost:8080/"
        },
        "id": "MiDxxqzS9fBu",
        "outputId": "6c63a641-262c-4e5a-b749-9f50c45a1176"
      },
      "execution_count": 31,
      "outputs": [
        {
          "output_type": "stream",
          "name": "stdout",
          "text": [
            "CPU times: user 41.3 s, sys: 3.54 s, total: 44.8 s\n",
            "Wall time: 45 s\n"
          ]
        }
      ]
    },
    {
      "cell_type": "code",
      "source": [
        "%%time\n",
        "list_ = list(range(N))\n",
        "list_ = [item*item for item in list_]"
      ],
      "metadata": {
        "colab": {
          "base_uri": "https://localhost:8080/"
        },
        "id": "12lWhCN_9v96",
        "outputId": "4bbfb5d5-7e49-4bcb-cb04-30e20c09574d"
      },
      "execution_count": 32,
      "outputs": [
        {
          "output_type": "stream",
          "name": "stdout",
          "text": [
            "CPU times: user 10.4 s, sys: 6.22 s, total: 16.6 s\n",
            "Wall time: 16.6 s\n"
          ]
        }
      ]
    },
    {
      "cell_type": "code",
      "source": [
        "%%time\n",
        "list_ = list(range(N))\n",
        "list_ = map(lambda x: x*x,list_)"
      ],
      "metadata": {
        "colab": {
          "base_uri": "https://localhost:8080/"
        },
        "id": "3_oI4CvT-K5-",
        "outputId": "9596e124-f3d4-452b-857b-69725f9d5836"
      },
      "execution_count": 33,
      "outputs": [
        {
          "output_type": "stream",
          "name": "stdout",
          "text": [
            "CPU times: user 1.55 s, sys: 2.25 s, total: 3.8 s\n",
            "Wall time: 3.8 s\n"
          ]
        }
      ]
    },
    {
      "cell_type": "markdown",
      "source": [
        "- `map` function performance improved significianlty"
      ],
      "metadata": {
        "id": "9SNHMmUG-vvp"
      }
    },
    {
      "cell_type": "code",
      "source": [
        "%%time\n",
        "list_ = list(range(N))\n",
        "list_sum = 0\n",
        "for item in list_:\n",
        "    list_sum +=item"
      ],
      "metadata": {
        "colab": {
          "base_uri": "https://localhost:8080/"
        },
        "id": "CSHgQBKF-qsu",
        "outputId": "d03dc880-ecd5-4d48-debf-89d51286f428"
      },
      "execution_count": 34,
      "outputs": [
        {
          "output_type": "stream",
          "name": "stdout",
          "text": [
            "CPU times: user 14.1 s, sys: 2.28 s, total: 16.4 s\n",
            "Wall time: 16.4 s\n"
          ]
        }
      ]
    },
    {
      "cell_type": "code",
      "source": [
        "%%time\n",
        "list_ = list(range(N))\n",
        "list_sum = sum(list_)"
      ],
      "metadata": {
        "colab": {
          "base_uri": "https://localhost:8080/"
        },
        "id": "7rj07gBi_Fpk",
        "outputId": "64132caa-ab38-472e-9c07-6579f0c7fb9d"
      },
      "execution_count": 35,
      "outputs": [
        {
          "output_type": "stream",
          "name": "stdout",
          "text": [
            "CPU times: user 2.36 s, sys: 1.95 s, total: 4.31 s\n",
            "Wall time: 4.3 s\n"
          ]
        }
      ]
    },
    {
      "cell_type": "code",
      "source": [
        "import numpy as np"
      ],
      "metadata": {
        "id": "vQEtnn3r_RHB"
      },
      "execution_count": 36,
      "outputs": []
    },
    {
      "cell_type": "code",
      "source": [
        "%%time\n",
        "arr = np.arange(N)\n",
        "arr = arr * arr"
      ],
      "metadata": {
        "colab": {
          "base_uri": "https://localhost:8080/"
        },
        "id": "0IiRI67k_lGP",
        "outputId": "923bcc5d-f9e7-4887-f916-e33328d0ee65"
      },
      "execution_count": 37,
      "outputs": [
        {
          "output_type": "stream",
          "name": "stdout",
          "text": [
            "CPU times: user 461 ms, sys: 914 µs, total: 462 ms\n",
            "Wall time: 466 ms\n"
          ]
        }
      ]
    },
    {
      "cell_type": "code",
      "source": [
        "%%time\n",
        "arr = np.arange(N)\n",
        "arr_sum = np.sum(arr)"
      ],
      "metadata": {
        "colab": {
          "base_uri": "https://localhost:8080/"
        },
        "id": "QKJNn63TAAWr",
        "outputId": "4e3393c7-2146-468c-c19c-be408f9657d4"
      },
      "execution_count": 38,
      "outputs": [
        {
          "output_type": "stream",
          "name": "stdout",
          "text": [
            "CPU times: user 300 ms, sys: 35.6 ms, total: 336 ms\n",
            "Wall time: 336 ms\n"
          ]
        }
      ]
    },
    {
      "cell_type": "markdown",
      "source": [
        "## Arrays\n",
        "\n",
        "- 1-D array : time series data\n",
        "- 2-D array : Spatial data\n",
        "- 3-D array : Spatial data across multiple times\n",
        "\n",
        "1. dimension 2: Along the first axis (Columns)\n",
        "2. dimension 1: Along the row axis\n",
        "3. dimension 0: Last dimension we added\n",
        "\n",
        "- So we have a 3d array of size 2 x 3 x 4\n",
        "\n",
        "- on dimension 0, we have two possibilities and on dimension 1, we have 3 possibilities\n",
        "\n",
        "- In Numpy 2 x 3 x 4 also called as Shape of the array\n",
        "\n",
        "`A[1,0,1]` First one should be on dimension 0, and second one dimension 1, and third one should be dimension 2\n"
      ],
      "metadata": {
        "id": "7nJp2RtDAbjB"
      }
    },
    {
      "cell_type": "markdown",
      "source": [
        "## Creating np Arrays"
      ],
      "metadata": {
        "id": "qIOfESLBDPzt"
      }
    },
    {
      "cell_type": "code",
      "source": [
        "arr = np.arange(5)"
      ],
      "metadata": {
        "id": "pBtDN5pjDOFC"
      },
      "execution_count": 39,
      "outputs": []
    },
    {
      "cell_type": "code",
      "source": [
        "print(arr,type(arr))"
      ],
      "metadata": {
        "colab": {
          "base_uri": "https://localhost:8080/"
        },
        "id": "wjvAyM3eAEjk",
        "outputId": "0334f0b4-639e-4cdb-bc62-8a70c13a0cec"
      },
      "execution_count": 40,
      "outputs": [
        {
          "output_type": "stream",
          "name": "stdout",
          "text": [
            "[0 1 2 3 4] <class 'numpy.ndarray'>\n"
          ]
        }
      ]
    },
    {
      "cell_type": "code",
      "source": [
        "arr = np.array([0,2,4,6,8])"
      ],
      "metadata": {
        "id": "pKUHCKMlDV1X"
      },
      "execution_count": 41,
      "outputs": []
    },
    {
      "cell_type": "code",
      "source": [
        "print(arr, type(arr))"
      ],
      "metadata": {
        "colab": {
          "base_uri": "https://localhost:8080/"
        },
        "id": "OCOYM5HcDdE0",
        "outputId": "26b3f997-fed5-4603-bd70-29c73a393821"
      },
      "execution_count": 42,
      "outputs": [
        {
          "output_type": "stream",
          "name": "stdout",
          "text": [
            "[0 2 4 6 8] <class 'numpy.ndarray'>\n"
          ]
        }
      ]
    },
    {
      "cell_type": "code",
      "source": [
        "arr"
      ],
      "metadata": {
        "colab": {
          "base_uri": "https://localhost:8080/"
        },
        "id": "SvlMWSDrDfRE",
        "outputId": "19897dcb-4c6c-4a6f-8ee0-748c01a2af52"
      },
      "execution_count": 43,
      "outputs": [
        {
          "output_type": "execute_result",
          "data": {
            "text/plain": [
              "array([0, 2, 4, 6, 8])"
            ]
          },
          "metadata": {},
          "execution_count": 43
        }
      ]
    },
    {
      "cell_type": "code",
      "source": [
        "arr.dtype"
      ],
      "metadata": {
        "colab": {
          "base_uri": "https://localhost:8080/"
        },
        "id": "nU2bXp5sDm7P",
        "outputId": "77b662ea-ff26-4d56-c503-83fd4eee8370"
      },
      "execution_count": 45,
      "outputs": [
        {
          "output_type": "execute_result",
          "data": {
            "text/plain": [
              "dtype('int64')"
            ]
          },
          "metadata": {},
          "execution_count": 45
        }
      ]
    },
    {
      "cell_type": "code",
      "source": [
        "arr.ndim"
      ],
      "metadata": {
        "colab": {
          "base_uri": "https://localhost:8080/"
        },
        "id": "u17iehiBDtN0",
        "outputId": "36edd014-ed80-44a1-acf3-f769eb54bf9f"
      },
      "execution_count": 46,
      "outputs": [
        {
          "output_type": "execute_result",
          "data": {
            "text/plain": [
              "1"
            ]
          },
          "metadata": {},
          "execution_count": 46
        }
      ]
    },
    {
      "cell_type": "code",
      "source": [
        "arr.shape"
      ],
      "metadata": {
        "colab": {
          "base_uri": "https://localhost:8080/"
        },
        "id": "5Vu53f8ZD2Zo",
        "outputId": "282065e0-6039-4da6-d4d8-260a9513e7fa"
      },
      "execution_count": 47,
      "outputs": [
        {
          "output_type": "execute_result",
          "data": {
            "text/plain": [
              "(5,)"
            ]
          },
          "metadata": {},
          "execution_count": 47
        }
      ]
    },
    {
      "cell_type": "code",
      "source": [
        "arr.size"
      ],
      "metadata": {
        "colab": {
          "base_uri": "https://localhost:8080/"
        },
        "id": "dgBlPydSD4hj",
        "outputId": "12583c5e-0031-49b1-ce13-8f4675c08ebc"
      },
      "execution_count": 48,
      "outputs": [
        {
          "output_type": "execute_result",
          "data": {
            "text/plain": [
              "5"
            ]
          },
          "metadata": {},
          "execution_count": 48
        }
      ]
    },
    {
      "cell_type": "code",
      "source": [
        "arr2d = np.array([\n",
        "                  [1,2,3],\n",
        "                  [4,5,6]\n",
        "])"
      ],
      "metadata": {
        "id": "5vuD_ZZbD9YZ"
      },
      "execution_count": 49,
      "outputs": []
    },
    {
      "cell_type": "code",
      "source": [
        "arr2d"
      ],
      "metadata": {
        "colab": {
          "base_uri": "https://localhost:8080/"
        },
        "id": "7OLniyZjFcBZ",
        "outputId": "117d843d-2331-4286-c24a-9011f95ff28f"
      },
      "execution_count": 50,
      "outputs": [
        {
          "output_type": "execute_result",
          "data": {
            "text/plain": [
              "array([[1, 2, 3],\n",
              "       [4, 5, 6]])"
            ]
          },
          "metadata": {},
          "execution_count": 50
        }
      ]
    },
    {
      "cell_type": "code",
      "source": [
        "arr2d.ndim"
      ],
      "metadata": {
        "colab": {
          "base_uri": "https://localhost:8080/"
        },
        "id": "E-5PVyL8Fc6Y",
        "outputId": "b577f0dd-d658-4e71-c5be-8ab657ca8925"
      },
      "execution_count": 52,
      "outputs": [
        {
          "output_type": "execute_result",
          "data": {
            "text/plain": [
              "2"
            ]
          },
          "metadata": {},
          "execution_count": 52
        }
      ]
    },
    {
      "cell_type": "code",
      "source": [
        "arr2d.shape"
      ],
      "metadata": {
        "colab": {
          "base_uri": "https://localhost:8080/"
        },
        "id": "xAly78EAFgPz",
        "outputId": "3955b4d6-037f-4aa8-e94b-bac2473c53c7"
      },
      "execution_count": 53,
      "outputs": [
        {
          "output_type": "execute_result",
          "data": {
            "text/plain": [
              "(2, 3)"
            ]
          },
          "metadata": {},
          "execution_count": 53
        }
      ]
    },
    {
      "cell_type": "code",
      "source": [
        "arr2d.size"
      ],
      "metadata": {
        "colab": {
          "base_uri": "https://localhost:8080/"
        },
        "id": "TLzI5q14GrL6",
        "outputId": "ad903633-8c01-4aca-b704-455553004b20"
      },
      "execution_count": 54,
      "outputs": [
        {
          "output_type": "execute_result",
          "data": {
            "text/plain": [
              "6"
            ]
          },
          "metadata": {},
          "execution_count": 54
        }
      ]
    },
    {
      "cell_type": "code",
      "source": [
        "arr3d = np.array([\n",
        "                  [\n",
        "                   [1,2,3],\n",
        "                   [4,5,6]\n",
        "                  ],\n",
        "                  [\n",
        "                  [7,8,9],\n",
        "                  [10,11,12]\n",
        "                  ]\n",
        "])"
      ],
      "metadata": {
        "id": "R-CLVZAsGs04"
      },
      "execution_count": 57,
      "outputs": []
    },
    {
      "cell_type": "code",
      "source": [
        "arr3d"
      ],
      "metadata": {
        "colab": {
          "base_uri": "https://localhost:8080/"
        },
        "id": "pffTboffG7h9",
        "outputId": "5aac9fd5-5723-4b86-8978-f6062e1990e5"
      },
      "execution_count": 58,
      "outputs": [
        {
          "output_type": "execute_result",
          "data": {
            "text/plain": [
              "array([[[ 1,  2,  3],\n",
              "        [ 4,  5,  6]],\n",
              "\n",
              "       [[ 7,  8,  9],\n",
              "        [10, 11, 12]]])"
            ]
          },
          "metadata": {},
          "execution_count": 58
        }
      ]
    },
    {
      "cell_type": "code",
      "source": [
        "arr3d.shape"
      ],
      "metadata": {
        "colab": {
          "base_uri": "https://localhost:8080/"
        },
        "id": "K1NVk7HZG8nt",
        "outputId": "4c312efa-bc09-46c3-d0fb-4cc77dfab98d"
      },
      "execution_count": 59,
      "outputs": [
        {
          "output_type": "execute_result",
          "data": {
            "text/plain": [
              "(2, 2, 3)"
            ]
          },
          "metadata": {},
          "execution_count": 59
        }
      ]
    },
    {
      "cell_type": "code",
      "source": [
        "np.ones((2,3,4))"
      ],
      "metadata": {
        "colab": {
          "base_uri": "https://localhost:8080/"
        },
        "id": "1abYJ__pHEy9",
        "outputId": "3d9f6c53-0c77-4441-c038-d0911f7f430c"
      },
      "execution_count": 61,
      "outputs": [
        {
          "output_type": "execute_result",
          "data": {
            "text/plain": [
              "array([[[1., 1., 1., 1.],\n",
              "        [1., 1., 1., 1.],\n",
              "        [1., 1., 1., 1.]],\n",
              "\n",
              "       [[1., 1., 1., 1.],\n",
              "        [1., 1., 1., 1.],\n",
              "        [1., 1., 1., 1.]]])"
            ]
          },
          "metadata": {},
          "execution_count": 61
        }
      ]
    },
    {
      "cell_type": "code",
      "source": [
        "np.zeros((2,3,4))"
      ],
      "metadata": {
        "colab": {
          "base_uri": "https://localhost:8080/"
        },
        "id": "jybv_bAQHbcI",
        "outputId": "e997b428-f0ae-4669-99b8-f2b5b50ed824"
      },
      "execution_count": 62,
      "outputs": [
        {
          "output_type": "execute_result",
          "data": {
            "text/plain": [
              "array([[[0., 0., 0., 0.],\n",
              "        [0., 0., 0., 0.],\n",
              "        [0., 0., 0., 0.]],\n",
              "\n",
              "       [[0., 0., 0., 0.],\n",
              "        [0., 0., 0., 0.],\n",
              "        [0., 0., 0., 0.]]])"
            ]
          },
          "metadata": {},
          "execution_count": 62
        }
      ]
    },
    {
      "cell_type": "code",
      "source": [
        ""
      ],
      "metadata": {
        "id": "E8RD_8HZHquF"
      },
      "execution_count": null,
      "outputs": []
    }
  ]
}