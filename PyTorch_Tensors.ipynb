{
  "nbformat": 4,
  "nbformat_minor": 0,
  "metadata": {
    "colab": {
      "name": "PyTorch_Tensors",
      "provenance": [],
      "authorship_tag": "ABX9TyPQWWAOIEsw6/H1TzT1f9Tv",
      "include_colab_link": true
    },
    "kernelspec": {
      "name": "python3",
      "display_name": "Python 3"
    },
    "language_info": {
      "name": "python"
    },
    "accelerator": "GPU"
  },
  "cells": [
    {
      "cell_type": "markdown",
      "metadata": {
        "id": "view-in-github",
        "colab_type": "text"
      },
      "source": [
        "<a href=\"https://colab.research.google.com/github/pavanraja753/PyTorch_Learning/blob/main/PyTorch_Tensors.ipynb\" target=\"_parent\"><img src=\"https://colab.research.google.com/assets/colab-badge.svg\" alt=\"Open In Colab\"/></a>"
      ]
    },
    {
      "cell_type": "code",
      "execution_count": 1,
      "metadata": {
        "id": "-6PhfzvLhB0j"
      },
      "outputs": [],
      "source": [
        "import torchvision\n",
        "import torch"
      ]
    },
    {
      "cell_type": "markdown",
      "source": [
        "\n",
        "A tensor is a generalized matrix, a finite table of numerical values indexed along several dimension\n",
        "\n",
        "- A 0d tensor is a scaler\n",
        "- A 1d tensor is a vector\n",
        "- A 2d tenosr is a matrix\n",
        "\n",
        "\n",
        "Tensors are used to encode the signal to process, but also the internal states and parameters of models\n",
        "\n",
        "**Manipulating data through this constrained structure allows to use CPUs and GPUs at peak perfomance**"
      ],
      "metadata": {
        "id": "9QprMCkiD7iz"
      }
    },
    {
      "cell_type": "markdown",
      "source": [
        "\n",
        "- PyTorch main features are\n",
        "\n",
        "1. Efficient tensor operations on CPU/GPU\n",
        "2. automatic on-the-fly differentiation\n",
        "3. optimizers\n",
        "4. data I/O\n",
        "\n",
        "\n",
        "A key specifit of PyTorch"
      ],
      "metadata": {
        "id": "RICbgF5lElzl"
      }
    },
    {
      "cell_type": "markdown",
      "source": [
        "- In-place operations are suffixed with an underscore.\n",
        "- and a 0d tensor can be converted back to a Python scalar with `item()`"
      ],
      "metadata": {
        "id": "BX1HgWrineBC"
      }
    },
    {
      "cell_type": "code",
      "source": [
        "x = torch.empty(2,5)\n",
        "print(x.size())\n",
        "x.fill_(1.125)\n",
        "print(x.mean())\n",
        "print(x.std())\n",
        "print(x.sum())\n",
        "x.sum().item()"
      ],
      "metadata": {
        "colab": {
          "base_uri": "https://localhost:8080/"
        },
        "id": "Jq5vAAMkhPEF",
        "outputId": "e361ee9b-e217-47dc-fb8a-f1c28be79495"
      },
      "execution_count": 2,
      "outputs": [
        {
          "output_type": "stream",
          "name": "stdout",
          "text": [
            "torch.Size([2, 5])\n",
            "tensor(1.1250)\n",
            "tensor(0.)\n",
            "tensor(11.2500)\n"
          ]
        },
        {
          "output_type": "execute_result",
          "data": {
            "text/plain": [
              "11.25"
            ]
          },
          "metadata": {},
          "execution_count": 2
        }
      ]
    },
    {
      "cell_type": "markdown",
      "source": [
        "`size()` returns the size / shape of the tensor and has as many components as the number of dimensions of the tensor. E.g. a tensor of size `torch.Size([2, 5])` is a matrix with two rows and five columns.\n",
        "\n",
        "We should use `item()` when printing a single value (to a text file for instance), otherwise `tensor(...)` is printed.\n",
        "\n",
        "The default tensor type `torch.Tensor` is an alias for `torch.FloatTensor`, but there are others with greater/lesser precision and on CPU/GPU. It can be set to a different type with `torch.set_default_tensor_type`. We will come back to this."
      ],
      "metadata": {
        "id": "LVMk5Ob-oZkE"
      }
    },
    {
      "cell_type": "markdown",
      "source": [
        "### For instance an element of R3 is a three-dimension vector, but a one-dimension tensor."
      ],
      "metadata": {
        "id": "-_PtI3v0ow1U"
      }
    },
    {
      "cell_type": "code",
      "source": [
        "x.sum().item()"
      ],
      "metadata": {
        "colab": {
          "base_uri": "https://localhost:8080/"
        },
        "id": "azr4yNq9nYfn",
        "outputId": "1a217a7e-b10c-4f1a-e7c3-513996cb7a58"
      },
      "execution_count": 3,
      "outputs": [
        {
          "output_type": "execute_result",
          "data": {
            "text/plain": [
              "11.25"
            ]
          },
          "metadata": {},
          "execution_count": 3
        }
      ]
    },
    {
      "cell_type": "markdown",
      "source": [
        "PyTorch provides operators for component-wise and vector/matrix operations"
      ],
      "metadata": {
        "id": "dggGAHLpo5xw"
      }
    },
    {
      "cell_type": "code",
      "source": [
        "x = torch.tensor([10.,20.,30.])\n",
        "y = torch.tensor([11.,21.,31.])"
      ],
      "metadata": {
        "id": "HTVk6rKcnaiC"
      },
      "execution_count": 4,
      "outputs": []
    },
    {
      "cell_type": "code",
      "source": [
        "print(x.size())"
      ],
      "metadata": {
        "id": "7inYaPDSF2ns",
        "outputId": "7b345a3d-d5df-49ea-9bfb-3d0f3a5b846e",
        "colab": {
          "base_uri": "https://localhost:8080/"
        }
      },
      "execution_count": 5,
      "outputs": [
        {
          "output_type": "stream",
          "name": "stdout",
          "text": [
            "torch.Size([3])\n"
          ]
        }
      ]
    },
    {
      "cell_type": "code",
      "source": [
        "x + y"
      ],
      "metadata": {
        "colab": {
          "base_uri": "https://localhost:8080/"
        },
        "id": "klcL0V8ipB46",
        "outputId": "ea9ed222-d63e-4ada-a505-dc2eeee2556e"
      },
      "execution_count": 6,
      "outputs": [
        {
          "output_type": "execute_result",
          "data": {
            "text/plain": [
              "tensor([21., 41., 61.])"
            ]
          },
          "metadata": {},
          "execution_count": 6
        }
      ]
    },
    {
      "cell_type": "code",
      "source": [
        "x * y"
      ],
      "metadata": {
        "colab": {
          "base_uri": "https://localhost:8080/"
        },
        "id": "zmPdHstTpDKt",
        "outputId": "0e95d62d-6f84-400b-cf5c-ec876911f8aa"
      },
      "execution_count": 7,
      "outputs": [
        {
          "output_type": "execute_result",
          "data": {
            "text/plain": [
              "tensor([110., 420., 930.])"
            ]
          },
          "metadata": {},
          "execution_count": 7
        }
      ]
    },
    {
      "cell_type": "code",
      "source": [
        "x**2"
      ],
      "metadata": {
        "colab": {
          "base_uri": "https://localhost:8080/"
        },
        "id": "sHr9MmgYpEeD",
        "outputId": "031044d9-8b3f-44be-9b49-9018faccab0d"
      },
      "execution_count": 8,
      "outputs": [
        {
          "output_type": "execute_result",
          "data": {
            "text/plain": [
              "tensor([100., 400., 900.])"
            ]
          },
          "metadata": {},
          "execution_count": 8
        }
      ]
    },
    {
      "cell_type": "code",
      "source": [
        "m = torch.tensor([[0.,0.,3.],\n",
        "                  [0,2,0],\n",
        "                  [1,0,0]])\n",
        "\n",
        "m.mv(x)"
      ],
      "metadata": {
        "colab": {
          "base_uri": "https://localhost:8080/"
        },
        "id": "S1piMMwopGWq",
        "outputId": "4231350c-f2be-4248-9aed-ee86aa28321e"
      },
      "execution_count": 9,
      "outputs": [
        {
          "output_type": "execute_result",
          "data": {
            "text/plain": [
              "tensor([90., 40., 10.])"
            ]
          },
          "metadata": {},
          "execution_count": 9
        }
      ]
    },
    {
      "cell_type": "code",
      "source": [
        "m @ x\n",
        "\n",
        "# this is a 1d vector"
      ],
      "metadata": {
        "colab": {
          "base_uri": "https://localhost:8080/"
        },
        "id": "H6LAjBnxpWk5",
        "outputId": "afab97ed-82a9-41ac-dbde-da2023b29af1"
      },
      "execution_count": 10,
      "outputs": [
        {
          "output_type": "execute_result",
          "data": {
            "text/plain": [
              "tensor([90., 40., 10.])"
            ]
          },
          "metadata": {},
          "execution_count": 10
        }
      ]
    },
    {
      "cell_type": "markdown",
      "source": [
        "The `@` operator corresponds to matrix/vector or matrix/matrix multiplication, while `*` is component-wise product and can be applied to tensors of arbitrary size, in particular of dimension greater than 2"
      ],
      "metadata": {
        "id": "d3cDGHxPptIf"
      }
    },
    {
      "cell_type": "markdown",
      "source": [
        "And as in `NumPy`, the `:` symbol defines a range of values for an index and allows to slice tensors."
      ],
      "metadata": {
        "id": "N_5Xs-hdp7m3"
      }
    },
    {
      "cell_type": "code",
      "source": [
        "import torch\n",
        "x = torch.empty(2,4).random_(10)\n",
        "x"
      ],
      "metadata": {
        "colab": {
          "base_uri": "https://localhost:8080/"
        },
        "id": "8WLjmxnEpYjQ",
        "outputId": "e09c6f22-e41d-422e-df1e-aeda7cbff57c"
      },
      "execution_count": 11,
      "outputs": [
        {
          "output_type": "execute_result",
          "data": {
            "text/plain": [
              "tensor([[1., 2., 5., 4.],\n",
              "        [3., 3., 4., 7.]])"
            ]
          },
          "metadata": {},
          "execution_count": 11
        }
      ]
    },
    {
      "cell_type": "code",
      "source": [
        "x[0]"
      ],
      "metadata": {
        "colab": {
          "base_uri": "https://localhost:8080/"
        },
        "id": "-5wBAta-qFP0",
        "outputId": "00bed8c0-592f-41fe-aa1d-1d9ff0079af9"
      },
      "execution_count": 12,
      "outputs": [
        {
          "output_type": "execute_result",
          "data": {
            "text/plain": [
              "tensor([1., 2., 5., 4.])"
            ]
          },
          "metadata": {},
          "execution_count": 12
        }
      ]
    },
    {
      "cell_type": "code",
      "source": [
        "x[0,:]"
      ],
      "metadata": {
        "colab": {
          "base_uri": "https://localhost:8080/"
        },
        "id": "fJmpVWlMqLsk",
        "outputId": "2ec3e1ff-3936-495c-ca6d-50d8e9880d5c"
      },
      "execution_count": 13,
      "outputs": [
        {
          "output_type": "execute_result",
          "data": {
            "text/plain": [
              "tensor([1., 2., 5., 4.])"
            ]
          },
          "metadata": {},
          "execution_count": 13
        }
      ]
    },
    {
      "cell_type": "code",
      "source": [
        "x[:,0]"
      ],
      "metadata": {
        "colab": {
          "base_uri": "https://localhost:8080/"
        },
        "id": "kgjYWanfqN8l",
        "outputId": "45741fe9-ae3e-4274-fcc7-6ca18931b114"
      },
      "execution_count": 14,
      "outputs": [
        {
          "output_type": "execute_result",
          "data": {
            "text/plain": [
              "tensor([1., 3.])"
            ]
          },
          "metadata": {},
          "execution_count": 14
        }
      ]
    },
    {
      "cell_type": "code",
      "source": [
        "x[:,1:3] = -1"
      ],
      "metadata": {
        "id": "HcXP7JclqPSD"
      },
      "execution_count": 15,
      "outputs": []
    },
    {
      "cell_type": "code",
      "source": [
        "x"
      ],
      "metadata": {
        "colab": {
          "base_uri": "https://localhost:8080/"
        },
        "id": "yn148zPtqS5y",
        "outputId": "d326724f-3810-4a78-93b2-4edb03f83c5a"
      },
      "execution_count": 16,
      "outputs": [
        {
          "output_type": "execute_result",
          "data": {
            "text/plain": [
              "tensor([[ 1., -1., -1.,  4.],\n",
              "        [ 3., -1., -1.,  7.]])"
            ]
          },
          "metadata": {},
          "execution_count": 16
        }
      ]
    },
    {
      "cell_type": "markdown",
      "source": [
        "`PyTorch` provides interfacing to standard linear operations, such as linear system solving or eigen decomposition"
      ],
      "metadata": {
        "id": "n-sVlXLjqb1F"
      }
    },
    {
      "cell_type": "code",
      "source": [
        "y = torch.empty(3).normal_()\n",
        "y"
      ],
      "metadata": {
        "colab": {
          "base_uri": "https://localhost:8080/"
        },
        "id": "RnT5IAANqTPn",
        "outputId": "5d0f21fc-c8c4-4a9b-de2a-0f5651f6fb73"
      },
      "execution_count": 17,
      "outputs": [
        {
          "output_type": "execute_result",
          "data": {
            "text/plain": [
              "tensor([ 0.7007, -1.6533,  2.5048])"
            ]
          },
          "metadata": {},
          "execution_count": 17
        }
      ]
    },
    {
      "cell_type": "code",
      "source": [
        "m = torch.empty(3,3).normal_()"
      ],
      "metadata": {
        "id": "rHYsM-Tfqhhc"
      },
      "execution_count": 18,
      "outputs": []
    },
    {
      "cell_type": "code",
      "source": [
        "q, _ = torch.lstsq(y,m)"
      ],
      "metadata": {
        "colab": {
          "base_uri": "https://localhost:8080/"
        },
        "id": "xzcQbbVjqobD",
        "outputId": "5cc3baff-fcfc-4079-bd13-bfcc4e1a5ce0"
      },
      "execution_count": 19,
      "outputs": [
        {
          "output_type": "stream",
          "name": "stderr",
          "text": [
            "/usr/local/lib/python3.7/dist-packages/ipykernel_launcher.py:1: UserWarning: torch.lstsq is deprecated in favor of torch.linalg.lstsq and will be removed in a future PyTorch release.\n",
            "torch.linalg.lstsq has reversed arguments and does not return the QR decomposition in the returned tuple (although it returns other information about the problem).\n",
            "To get the qr decomposition consider using torch.linalg.qr.\n",
            "The returned solution in torch.lstsq stored the residuals of the solution in the last m - n columns of the returned value whenever m > n. In torch.linalg.lstsq, the residuals in the field 'residuals' of the returned named tuple.\n",
            "The unpacking of the solution, as in\n",
            "X, _ = torch.lstsq(B, A).solution[:A.size(1)]\n",
            "should be replaced with\n",
            "X = torch.linalg.lstsq(A, B).solution (Triggered internally at  ../aten/src/ATen/native/BatchLinearAlgebra.cpp:3668.)\n",
            "  \"\"\"Entry point for launching an IPython kernel.\n"
          ]
        }
      ]
    },
    {
      "cell_type": "code",
      "source": [
        "torch.mm(m,q)"
      ],
      "metadata": {
        "colab": {
          "base_uri": "https://localhost:8080/"
        },
        "id": "YdJ8DYjAq1I0",
        "outputId": "4953c7bd-4ade-4fc8-9511-eafea488a526"
      },
      "execution_count": 20,
      "outputs": [
        {
          "output_type": "execute_result",
          "data": {
            "text/plain": [
              "tensor([[ 0.7007],\n",
              "        [-1.6533],\n",
              "        [ 2.5048]])"
            ]
          },
          "metadata": {},
          "execution_count": 20
        }
      ]
    },
    {
      "cell_type": "code",
      "source": [
        "m @ q"
      ],
      "metadata": {
        "colab": {
          "base_uri": "https://localhost:8080/"
        },
        "id": "fQ1sAJs5q8Na",
        "outputId": "53424d83-01f4-48a9-e7c2-8f37d9483284"
      },
      "execution_count": 21,
      "outputs": [
        {
          "output_type": "execute_result",
          "data": {
            "text/plain": [
              "tensor([[ 0.7007],\n",
              "        [-1.6533],\n",
              "        [ 2.5048]])"
            ]
          },
          "metadata": {},
          "execution_count": 21
        }
      ]
    },
    {
      "cell_type": "markdown",
      "source": [
        "# Linear Regression example\n",
        "\n"
      ],
      "metadata": {
        "id": "mUXm1u5rG5BK"
      }
    },
    {
      "cell_type": "markdown",
      "source": [
        "# 1.5. High dimension tensors"
      ],
      "metadata": {
        "id": "WL6ERjRrr4IZ"
      }
    },
    {
      "cell_type": "markdown",
      "source": [
        "A tensor can be of several types\n",
        "\n",
        "- `torch.float16, torch.float32, torch.float64`,\n",
        "- `torch.uint8`,\n",
        "- `torch.int8, torch.int16, torch.int32, torch.int64`\n",
        "\n",
        "\n",
        "\n",
        "and can be located eighter in the CPU's or in a GPU's memory\n",
        "\n",
        "\n",
        "\n",
        "Operations with tensors stored in a certain device’s memory are done by that device. We will come back to that later.\n",
        "\n",
        "*All the coefficients in a given tensor are of the same type, which can be either an integer or floating point value of a certain precision.*\n",
        "\n"
      ],
      "metadata": {
        "id": "uZDOd6sKr8lk"
      }
    },
    {
      "cell_type": "code",
      "source": [
        "x = torch.zeros(1,3)\n",
        "x.dtype, x.device"
      ],
      "metadata": {
        "colab": {
          "base_uri": "https://localhost:8080/"
        },
        "id": "3pfuBvN7q-qP",
        "outputId": "d63e07c3-d69c-4414-e68a-10d180e15e64"
      },
      "execution_count": 22,
      "outputs": [
        {
          "output_type": "execute_result",
          "data": {
            "text/plain": [
              "(torch.float32, device(type='cpu'))"
            ]
          },
          "metadata": {},
          "execution_count": 22
        }
      ]
    },
    {
      "cell_type": "code",
      "source": [
        "x = x.long()\n",
        "x.dtype, x.device"
      ],
      "metadata": {
        "colab": {
          "base_uri": "https://localhost:8080/"
        },
        "id": "5t7FAgZ_svad",
        "outputId": "d38ca33d-f4f7-4835-a915-9f0e9c02fa69"
      },
      "execution_count": 23,
      "outputs": [
        {
          "output_type": "execute_result",
          "data": {
            "text/plain": [
              "(torch.int64, device(type='cpu'))"
            ]
          },
          "metadata": {},
          "execution_count": 23
        }
      ]
    },
    {
      "cell_type": "code",
      "source": [
        "x = x.to('cuda')"
      ],
      "metadata": {
        "id": "GyjjEnVjszg4"
      },
      "execution_count": 24,
      "outputs": []
    },
    {
      "cell_type": "code",
      "source": [
        "print(x.device)"
      ],
      "metadata": {
        "id": "lTt_QsmoIN2O",
        "outputId": "2f43d4f5-6830-4490-9e6a-5fc7a875669b",
        "colab": {
          "base_uri": "https://localhost:8080/"
        }
      },
      "execution_count": 25,
      "outputs": [
        {
          "output_type": "stream",
          "name": "stdout",
          "text": [
            "cuda:0\n"
          ]
        }
      ]
    },
    {
      "cell_type": "markdown",
      "source": [
        "- The deafault type of tensor values is `torch.float32`, and the deafualt computing device is the CPU.\n",
        "\n",
        "- The data type od the tensor can be accesses with `dtype` and the device on which the tensor lies with `device`\n",
        "\n",
        "- When casting a tensor to a new type (for instance here with x = x.long()), a copy is actually made. If the type is already adequate, a reference to the same tensor is returned.\n",
        "\n",
        "- It is a best practice to define the device that is going to be used once for all at the beginning of a program, and use the method to(device) to move the data to the target device"
      ],
      "metadata": {
        "id": "H2hiPVbgtJxg"
      }
    },
    {
      "cell_type": "markdown",
      "source": [
        "\n",
        "## Higher dimensions\n",
        "\n",
        "- A 2d tensor can be seen as a grayscale image: the first index is the row, and the second index the column.\n",
        "\n",
        "- A 3d tensor can be viewed as a RGB image. The standard in PyTorch is to have the channel index first. For instance, a CIFAR10 image is of size `3×32×32`.\n",
        "\n",
        "- A 4d tensor can be seen as a sequence of multi-channel images. For instance, given a minibatch `batch` of 10 CIFAR10 images is of size `10×3×32×32`,\n",
        "\n",
        "\n",
        "- the 5th image can be accessed as `batch[4]`\n",
        "- the blue channel (3rd) of the 7th image can be accessed with `batch[6, 2]` or `batch[6, 2, :, :]`"
      ],
      "metadata": {
        "id": "s7qYnY6wt3It"
      }
    },
    {
      "cell_type": "code",
      "source": [
        "x = torch.tensor([[1,3,0],[2,4,6]])\n",
        "x"
      ],
      "metadata": {
        "colab": {
          "base_uri": "https://localhost:8080/"
        },
        "id": "CoGT4I29s4Oa",
        "outputId": "642acb81-39c4-461b-bff7-545cb51046f2"
      },
      "execution_count": 26,
      "outputs": [
        {
          "output_type": "execute_result",
          "data": {
            "text/plain": [
              "tensor([[1, 3, 0],\n",
              "        [2, 4, 6]])"
            ]
          },
          "metadata": {},
          "execution_count": 26
        }
      ]
    },
    {
      "cell_type": "code",
      "source": [
        "print(x.t())\n",
        "print(x)"
      ],
      "metadata": {
        "colab": {
          "base_uri": "https://localhost:8080/"
        },
        "id": "DZfXtSN1vCbE",
        "outputId": "4ee5aaee-48a0-487b-a7e2-c08b71f82c78"
      },
      "execution_count": 28,
      "outputs": [
        {
          "output_type": "stream",
          "name": "stdout",
          "text": [
            "tensor([[1, 2],\n",
            "        [3, 4],\n",
            "        [0, 6]])\n",
            "tensor([[1, 3, 0],\n",
            "        [2, 4, 6]])\n"
          ]
        }
      ]
    },
    {
      "cell_type": "code",
      "source": [
        "x.view(-1)"
      ],
      "metadata": {
        "colab": {
          "base_uri": "https://localhost:8080/"
        },
        "id": "HKg-vOcpvE6W",
        "outputId": "fef96e25-2bfb-4215-d1a5-11336e9e1df9"
      },
      "execution_count": 29,
      "outputs": [
        {
          "output_type": "execute_result",
          "data": {
            "text/plain": [
              "tensor([1, 3, 0, 2, 4, 6])"
            ]
          },
          "metadata": {},
          "execution_count": 29
        }
      ]
    },
    {
      "cell_type": "code",
      "source": [
        "x"
      ],
      "metadata": {
        "colab": {
          "base_uri": "https://localhost:8080/"
        },
        "id": "cJiQCwprvMTG",
        "outputId": "ab69688e-14b2-405f-d657-1bbe38dca1df"
      },
      "execution_count": 30,
      "outputs": [
        {
          "output_type": "execute_result",
          "data": {
            "text/plain": [
              "tensor([[1, 3, 0],\n",
              "        [2, 4, 6]])"
            ]
          },
          "metadata": {},
          "execution_count": 30
        }
      ]
    },
    {
      "cell_type": "code",
      "source": [
        "x.view(3,-1)"
      ],
      "metadata": {
        "colab": {
          "base_uri": "https://localhost:8080/"
        },
        "id": "xhadtecOvVaK",
        "outputId": "f7b6aeed-0181-4c13-eff4-f8e68c35f720"
      },
      "execution_count": 31,
      "outputs": [
        {
          "output_type": "execute_result",
          "data": {
            "text/plain": [
              "tensor([[1, 3],\n",
              "        [0, 2],\n",
              "        [4, 6]])"
            ]
          },
          "metadata": {},
          "execution_count": 31
        }
      ]
    },
    {
      "cell_type": "code",
      "source": [
        "x[:,1:3]"
      ],
      "metadata": {
        "colab": {
          "base_uri": "https://localhost:8080/"
        },
        "id": "_i-S3zG-vZJu",
        "outputId": "dfd351c0-cece-4ecf-a0f5-0399dbdee3ab"
      },
      "execution_count": 32,
      "outputs": [
        {
          "output_type": "execute_result",
          "data": {
            "text/plain": [
              "tensor([[3, 0],\n",
              "        [4, 6]])"
            ]
          },
          "metadata": {},
          "execution_count": 32
        }
      ]
    },
    {
      "cell_type": "code",
      "source": [
        "x.view(1,2,3).expand(3,2,3)"
      ],
      "metadata": {
        "colab": {
          "base_uri": "https://localhost:8080/"
        },
        "id": "ljIAG_LwvjVa",
        "outputId": "80983795-daf2-4748-f114-f141970ecc26"
      },
      "execution_count": 33,
      "outputs": [
        {
          "output_type": "execute_result",
          "data": {
            "text/plain": [
              "tensor([[[1, 3, 0],\n",
              "         [2, 4, 6]],\n",
              "\n",
              "        [[1, 3, 0],\n",
              "         [2, 4, 6]],\n",
              "\n",
              "        [[1, 3, 0],\n",
              "         [2, 4, 6]]])"
            ]
          },
          "metadata": {},
          "execution_count": 33
        }
      ]
    },
    {
      "cell_type": "markdown",
      "source": [
        " - `t()` can be applied to a 2d tensor and simply transpose the indices, as a classical matrix transpose\n",
        "\n",
        " - `view()` unfolds the tensor in a differnet shape. Using `-1` for one of the dimension copmuted the proper value to match the number of coefficients with the original tensor.\n",
        "\n",
        " - Here, `x.view(1,2,3).expand(3, 2, 3)` can also be acheived with `x.unsqueeze(0).expand(3,2,3)`"
      ],
      "metadata": {
        "id": "5ZF45Awav4dM"
      }
    },
    {
      "cell_type": "markdown",
      "source": [
        "- Transposing two dimensions of a tensor can also be done by specifying the two dimensions as input: `transpose(dim0, dim1)`. This is of course applicable to tensors of greater than two dimensions"
      ],
      "metadata": {
        "id": "OJh4b3yfFUnG"
      }
    },
    {
      "cell_type": "code",
      "source": [
        "x = torch.tensor([\n",
        "                  [[1,2,1],\n",
        "                   [2,1,2]],\n",
        "                  [[3,0,3],\n",
        "                  [0,3,0]]\n",
        "])"
      ],
      "metadata": {
        "id": "47dEvScRvskQ"
      },
      "execution_count": 34,
      "outputs": []
    },
    {
      "cell_type": "code",
      "source": [
        "x.shape"
      ],
      "metadata": {
        "colab": {
          "base_uri": "https://localhost:8080/"
        },
        "id": "EChf295Kv24T",
        "outputId": "3b05b437-0c7a-48bb-a411-977680161b51"
      },
      "execution_count": 35,
      "outputs": [
        {
          "output_type": "execute_result",
          "data": {
            "text/plain": [
              "torch.Size([2, 2, 3])"
            ]
          },
          "metadata": {},
          "execution_count": 35
        }
      ]
    },
    {
      "cell_type": "code",
      "source": [
        "x[0:1,:,:]"
      ],
      "metadata": {
        "colab": {
          "base_uri": "https://localhost:8080/"
        },
        "id": "S0MGiW7RFzXz",
        "outputId": "6adb5ad6-82e5-4bbb-8527-1ab07d6ce73d"
      },
      "execution_count": 36,
      "outputs": [
        {
          "output_type": "execute_result",
          "data": {
            "text/plain": [
              "tensor([[[1, 2, 1],\n",
              "         [2, 1, 2]]])"
            ]
          },
          "metadata": {},
          "execution_count": 36
        }
      ]
    },
    {
      "cell_type": "code",
      "source": [
        "x.transpose(0,1)\n",
        "x.shape"
      ],
      "metadata": {
        "colab": {
          "base_uri": "https://localhost:8080/"
        },
        "id": "EudtrWhFF2Ls",
        "outputId": "99f40c5f-3fc5-40e4-e3ce-b9714fb30c31"
      },
      "execution_count": 37,
      "outputs": [
        {
          "output_type": "execute_result",
          "data": {
            "text/plain": [
              "torch.Size([2, 2, 3])"
            ]
          },
          "metadata": {},
          "execution_count": 37
        }
      ]
    },
    {
      "cell_type": "code",
      "source": [
        "x.transpose(1,2).shape"
      ],
      "metadata": {
        "colab": {
          "base_uri": "https://localhost:8080/"
        },
        "id": "S4oNvozrF_ik",
        "outputId": "d51a6b4e-1239-48b6-e950-3fb359531402"
      },
      "execution_count": 38,
      "outputs": [
        {
          "output_type": "execute_result",
          "data": {
            "text/plain": [
              "torch.Size([2, 3, 2])"
            ]
          },
          "metadata": {},
          "execution_count": 38
        }
      ]
    },
    {
      "cell_type": "markdown",
      "source": [
        "**For efficiency reasons, different tensors can share the same data and 􏰂 modifying one will modify the others. By default do not make the\n",
        "assumption that two tensors refer to different data in memory.**"
      ],
      "metadata": {
        "id": "rkkXg-_-GPqG"
      }
    },
    {
      "cell_type": "code",
      "source": [
        "a= torch.full((2,3),1)\n",
        "a"
      ],
      "metadata": {
        "colab": {
          "base_uri": "https://localhost:8080/"
        },
        "id": "vRUvGM9eGDv1",
        "outputId": "ecb57578-c73a-4939-812b-04907d2e8a39"
      },
      "execution_count": 39,
      "outputs": [
        {
          "output_type": "execute_result",
          "data": {
            "text/plain": [
              "tensor([[1, 1, 1],\n",
              "        [1, 1, 1]])"
            ]
          },
          "metadata": {},
          "execution_count": 39
        }
      ]
    },
    {
      "cell_type": "code",
      "source": [
        "b = a.view(-1)\n",
        "b"
      ],
      "metadata": {
        "colab": {
          "base_uri": "https://localhost:8080/"
        },
        "id": "MAbjuMj7GaLp",
        "outputId": "a71873d9-de8f-4a2e-f265-f043b4ca5843"
      },
      "execution_count": 40,
      "outputs": [
        {
          "output_type": "execute_result",
          "data": {
            "text/plain": [
              "tensor([1, 1, 1, 1, 1, 1])"
            ]
          },
          "metadata": {},
          "execution_count": 40
        }
      ]
    },
    {
      "cell_type": "code",
      "source": [
        "a[1,1] = 2"
      ],
      "metadata": {
        "id": "tKQwFAAYGd63"
      },
      "execution_count": 41,
      "outputs": []
    },
    {
      "cell_type": "code",
      "source": [
        "b"
      ],
      "metadata": {
        "colab": {
          "base_uri": "https://localhost:8080/"
        },
        "id": "78X9oN0oGh1R",
        "outputId": "fab9fcb7-d34b-4bde-a172-5c13d4b63313"
      },
      "execution_count": 42,
      "outputs": [
        {
          "output_type": "execute_result",
          "data": {
            "text/plain": [
              "tensor([1, 1, 1, 1, 2, 1])"
            ]
          },
          "metadata": {},
          "execution_count": 42
        }
      ]
    },
    {
      "cell_type": "code",
      "source": [
        "b[0]=9\n",
        "print(b)\n",
        "print(a)"
      ],
      "metadata": {
        "colab": {
          "base_uri": "https://localhost:8080/"
        },
        "id": "GVeK0UIzGieq",
        "outputId": "061c8f45-1964-4078-f772-cde46e7751a6"
      },
      "execution_count": 43,
      "outputs": [
        {
          "output_type": "stream",
          "name": "stdout",
          "text": [
            "tensor([9, 1, 1, 1, 2, 1])\n",
            "tensor([[9, 1, 1],\n",
            "        [1, 2, 1]])\n"
          ]
        }
      ]
    },
    {
      "cell_type": "markdown",
      "source": [
        "Note that many operations returns a new tensor which shares the same underlying storage as the original tensor, so changing the values of one will change the other as well: `view`, `transpose`, `squeeze`, `unsqueeze`, `expand`, `permute,` etc."
      ],
      "metadata": {
        "id": "YKBu5t3zGwDb"
      }
    },
    {
      "cell_type": "markdown",
      "source": [
        "##PyTorch offers simple interfaces to standard image databases"
      ],
      "metadata": {
        "id": "5Jmtin3KG5M_"
      }
    },
    {
      "cell_type": "code",
      "source": [
        "import torch, torchvision\n",
        "\n",
        "cifar = torchvision.datasets.CIFAR10(\"./cifar10\",train=True,download=True)\n",
        "cifar.data.shape\n",
        "x = torch.from_numpy(cifar.data).permute(0,3,1,2).float()/255.0\n",
        "print(x.dtype, x.size(), x.min().item(), x.max().item())"
      ],
      "metadata": {
        "colab": {
          "base_uri": "https://localhost:8080/"
        },
        "id": "xqh_B7riGmvw",
        "outputId": "f0373f4e-6273-4950-a4e0-206032c1ad07"
      },
      "execution_count": 45,
      "outputs": [
        {
          "output_type": "stream",
          "name": "stdout",
          "text": [
            "Files already downloaded and verified\n",
            "torch.float32 torch.Size([50000, 3, 32, 32]) 0.0 1.0\n"
          ]
        }
      ]
    },
    {
      "cell_type": "markdown",
      "source": [
        "- Note that there are different storage conventions between some libraries used by `PyTorch` (`pillow and NumPy`) and PyTorch itself:\n",
        "\n",
        "   \n",
        "\n",
        "1.   loading the images yields a tensor of shape `50000×32×32×3`, but `PyTorch` works with the channel dimension as the second one: `50000×3×32×32.`\n",
        "\n",
        "2.   This change is made with `permute(0, 3, 1, 2)` which means that we want dimension 3 of the original tensor to lie at the second position of the new tensor."
      ],
      "metadata": {
        "id": "xPocMyh4H_LM"
      }
    },
    {
      "cell_type": "code",
      "source": [
        "# Narrows to the first images, converts to float\n",
        "x = x[:48]\n",
        "x.shape"
      ],
      "metadata": {
        "colab": {
          "base_uri": "https://localhost:8080/"
        },
        "id": "IjEjRhrIHPzx",
        "outputId": "07b14161-57a3-43f4-b82c-7d1eb75c5a20"
      },
      "execution_count": 46,
      "outputs": [
        {
          "output_type": "execute_result",
          "data": {
            "text/plain": [
              "torch.Size([48, 3, 32, 32])"
            ]
          },
          "metadata": {},
          "execution_count": 46
        }
      ]
    },
    {
      "cell_type": "code",
      "source": [
        "# saves these images as a single image\n",
        "torchvision.utils.save_image(x,'cifar.png',nrow=12)"
      ],
      "metadata": {
        "id": "L5sjPfWoIh5M"
      },
      "execution_count": 47,
      "outputs": []
    },
    {
      "cell_type": "code",
      "source": [
        "# Switches the row and column indexes\n",
        "x = x.transpose_(3,2)\n",
        "torchvision.utils.save_image(x,'cifar.png',nrow=12)"
      ],
      "metadata": {
        "id": "MYDmeW9rI1FU"
      },
      "execution_count": 48,
      "outputs": []
    },
    {
      "cell_type": "markdown",
      "source": [
        "Since the data follows the standard `PyTorch` “channel first” convention, transposing\n",
        "dimensions 2 and 3 (that is the 3rd and the fourth) exchanges the height and width of the images.\n",
        "Remember that functions ending with an underscore operate in-place."
      ],
      "metadata": {
        "id": "aViG2zmRJUDu"
      }
    },
    {
      "cell_type": "code",
      "source": [
        "# Kills the green and blue channels\n",
        "x[:,1:3].fill_(0)\n",
        "torchvision.utils.save_image(x,'cifar.png',nrow=12)"
      ],
      "metadata": {
        "id": "ssaUg211JCiq"
      },
      "execution_count": 49,
      "outputs": []
    },
    {
      "cell_type": "markdown",
      "source": [
        "## Broadcasting and Einstein summations"
      ],
      "metadata": {
        "id": "k76rF1qYKsB_"
      }
    },
    {
      "cell_type": "markdown",
      "source": [
        "Broadcasting automagically expands dimensions by replicating coefficients, when it is necessary to perform operations that are “intuitively reasonable”."
      ],
      "metadata": {
        "id": "f9uBhRSfKx9o"
      }
    },
    {
      "cell_type": "code",
      "source": [
        "x = torch.empty(100,4).normal_(2)\n",
        "print(x.mean(0).shape)\n",
        "print(x.mean(0))"
      ],
      "metadata": {
        "colab": {
          "base_uri": "https://localhost:8080/"
        },
        "id": "3ANBns1GJr2p",
        "outputId": "a72a9992-00dc-4068-fdf5-84837263a81f"
      },
      "execution_count": 54,
      "outputs": [
        {
          "output_type": "stream",
          "name": "stdout",
          "text": [
            "torch.Size([4])\n",
            "tensor([2.0631, 1.9979, 1.8270, 1.9547])\n"
          ]
        }
      ]
    },
    {
      "cell_type": "code",
      "source": [
        "x = x- x.mean(0)"
      ],
      "metadata": {
        "id": "xX-dLr4OK7s3"
      },
      "execution_count": 55,
      "outputs": []
    },
    {
      "cell_type": "code",
      "source": [
        "x.mean(0)"
      ],
      "metadata": {
        "colab": {
          "base_uri": "https://localhost:8080/"
        },
        "id": "axZILREULEgi",
        "outputId": "3f00ef66-925e-420a-8230-8ff1fabb6dd2"
      },
      "execution_count": 56,
      "outputs": [
        {
          "output_type": "execute_result",
          "data": {
            "text/plain": [
              "tensor([ 1.1921e-09, -1.3232e-07, -5.9605e-08,  1.1086e-07])"
            ]
          },
          "metadata": {},
          "execution_count": 56
        }
      ]
    },
    {
      "cell_type": "markdown",
      "source": [
        "- Broadcasting is a mechanism taken from NumPy which expands the proper dimensions of size 1 to perform operations on tensors/arrays of different dimensions.\n",
        "\n",
        "- In the example above, considering that a `N × D` tensor is a list of `N` vectors of dimension `D`, we want to compute the mean vector. So, here, starting from a tensor of dimension `(100, 4)`, the mean along dimension `0` yields a tensor with 4 values of size `(4,)`, one for each column."
      ],
      "metadata": {
        "id": "-FuiFZ_JLKbN"
      }
    },
    {
      "cell_type": "markdown",
      "source": [
        "It is quite natural to substract a vector to a series of vectors. For instance here, it seems reasonable to subtract the mean vector to all the vectors of x, but since the dimensions are respectively (4,) and (100, 4), the operation cannot be done."
      ],
      "metadata": {
        "id": "44cM72XALcar"
      }
    },
    {
      "cell_type": "markdown",
      "source": [
        "To allow it, the “broadcasting” mechanism creates `[implicitely]` a matrix of size (100, 4) by replicating the row 100 times."
      ],
      "metadata": {
        "id": "o7_ZlzrdLkHc"
      }
    },
    {
      "cell_type": "markdown",
      "source": [
        "Precisely, broadcasting proceeds as follows:\n",
        "\n",
        "1.   If one of the tensors has fewer dimensions than the other, it is reshaped by adding as many dimensions of size 1 as necessary in the front; then\n",
        "\n",
        "2.  for every dimension mismatch, if one of the two tensors is of size one, it is expanded along this axis by replicating coefficients.\n",
        "\n",
        "If there is a tensor size mismatch for one of the dimension and neither of them is one, the operation fails"
      ],
      "metadata": {
        "id": "eP3Dcv80Ln92"
      }
    },
    {
      "cell_type": "code",
      "source": [
        "# Broadcasting example\n",
        "\n",
        "A = torch.tensor([\n",
        "                  [1.],\n",
        "                  [2.],\n",
        "                  [3.],\n",
        "                  [4.]\n",
        "])\n",
        "\n",
        "B = torch.tensor([[5., -5., 5., -5., 5.]])\n",
        "\n",
        "print(A.shape), print(B.shape)"
      ],
      "metadata": {
        "colab": {
          "base_uri": "https://localhost:8080/"
        },
        "id": "iYn0muRwLGmI",
        "outputId": "c87029ff-09f2-48da-833b-60b8732df004"
      },
      "execution_count": 57,
      "outputs": [
        {
          "output_type": "stream",
          "name": "stdout",
          "text": [
            "torch.Size([4, 1])\n",
            "torch.Size([1, 5])\n"
          ]
        },
        {
          "output_type": "execute_result",
          "data": {
            "text/plain": [
              "(None, None)"
            ]
          },
          "metadata": {},
          "execution_count": 57
        }
      ]
    },
    {
      "cell_type": "code",
      "source": [
        "print(A+B)"
      ],
      "metadata": {
        "colab": {
          "base_uri": "https://localhost:8080/"
        },
        "id": "bwyQd6vsMTyw",
        "outputId": "259740b9-0d73-4003-a83c-f6ad54e204d4"
      },
      "execution_count": 58,
      "outputs": [
        {
          "output_type": "stream",
          "name": "stdout",
          "text": [
            "tensor([[ 6., -4.,  6., -4.,  6.],\n",
            "        [ 7., -3.,  7., -3.,  7.],\n",
            "        [ 8., -2.,  8., -2.,  8.],\n",
            "        [ 9., -1.,  9., -1.,  9.]])\n"
          ]
        }
      ]
    },
    {
      "cell_type": "markdown",
      "source": [
        "In the example,\n",
        "\n",
        "- `A` is of size `(4,1)`\n",
        "- `B` is of size `(1,5)`\n",
        "\n",
        "Following the procedure of the previous slide,\n",
        "\n",
        "Both tensors have two dimensions;\n",
        "\n",
        "Then, for each of the two dimensions:\n",
        "\n",
        "1.  On dimension `0`, `A` has `4` rows, while `B` has `1`. Therefore, `B` is expanded along this dimension by replicating its row `4` times. The “new” `B` is of size `(4,5)`.\n",
        "\n",
        "2.  On dimension `1`, `A` has `1` column, while `B` has `5`. Therefore, `A` is expanded along this dimension by replicating its column `5` times. The\n",
        "“new” `A` is of size `(4,5)`.\n",
        "\n",
        "3. The operation can be perform on\n",
        "these two tensors of size `(4,5)`.\n",
        "\n",
        "\n",
        "Note that all this is transparent and that no copy is actually made."
      ],
      "metadata": {
        "id": "gnvOFvs4Mf87"
      }
    },
    {
      "cell_type": "code",
      "source": [
        ""
      ],
      "metadata": {
        "id": "jtcZp_t2Mdjf"
      },
      "execution_count": 58,
      "outputs": []
    },
    {
      "cell_type": "markdown",
      "source": [
        "# 1.6 Tensor Internals"
      ],
      "metadata": {
        "id": "yy1D1FKoRduc"
      }
    },
    {
      "cell_type": "markdown",
      "source": [
        "A tensor is a `view` of a [part of a ]`storage`, which is a low-level 1d vector "
      ],
      "metadata": {
        "id": "bXayIOBzSXXI"
      }
    },
    {
      "cell_type": "code",
      "source": [
        "x = torch.zeros(2,3)\n",
        "print(x.storage())"
      ],
      "metadata": {
        "colab": {
          "base_uri": "https://localhost:8080/"
        },
        "id": "FE2yy1kRRhCo",
        "outputId": "ce08b0ba-8117-4a09-9056-2a5dfd3c8323"
      },
      "execution_count": 70,
      "outputs": [
        {
          "output_type": "stream",
          "name": "stdout",
          "text": [
            " 0.0\n",
            " 0.0\n",
            " 0.0\n",
            " 0.0\n",
            " 0.0\n",
            " 0.0\n",
            "[torch.FloatStorage of size 6]\n"
          ]
        }
      ]
    },
    {
      "cell_type": "code",
      "source": [
        "q = x.storage()\n",
        "q[0] = 1\n",
        "print(q), print(x)"
      ],
      "metadata": {
        "colab": {
          "base_uri": "https://localhost:8080/"
        },
        "id": "cpHSvGH_RlEk",
        "outputId": "0cdd1c2d-8be6-42e9-8220-97e61909aa85"
      },
      "execution_count": 71,
      "outputs": [
        {
          "output_type": "stream",
          "name": "stdout",
          "text": [
            " 1.0\n",
            " 0.0\n",
            " 0.0\n",
            " 0.0\n",
            " 0.0\n",
            " 0.0\n",
            "[torch.FloatStorage of size 6]\n",
            "tensor([[1., 0., 0.],\n",
            "        [0., 0., 0.]])\n"
          ]
        },
        {
          "output_type": "execute_result",
          "data": {
            "text/plain": [
              "(None, None)"
            ]
          },
          "metadata": {},
          "execution_count": 71
        }
      ]
    },
    {
      "cell_type": "code",
      "source": [
        "q = torch.arange(0.0,20.0).storage()\n",
        "# q is a storage\n",
        "x = torch.empty(0).set_(q, storage_offset=5,size = (3,2),stride=(4,1))"
      ],
      "metadata": {
        "id": "a64_bUmrRtqh",
        "outputId": "35f24099-f1c9-4561-9add-2b161543613f",
        "colab": {
          "base_uri": "https://localhost:8080/"
        }
      },
      "execution_count": 72,
      "outputs": [
        {
          "output_type": "stream",
          "name": "stdout",
          "text": [
            " 0.0\n",
            " 1.0\n",
            " 2.0\n",
            " 3.0\n",
            " 4.0\n",
            " 5.0\n",
            " 6.0\n",
            " 7.0\n",
            " 8.0\n",
            " 9.0\n",
            " 10.0\n",
            " 11.0\n",
            " 12.0\n",
            " 13.0\n",
            " 14.0\n",
            " 15.0\n",
            " 16.0\n",
            " 17.0\n",
            " 18.0\n",
            " 19.0\n",
            "[torch.FloatStorage of size 20]\n"
          ]
        }
      ]
    },
    {
      "cell_type": "code",
      "source": [
        "x"
      ],
      "metadata": {
        "colab": {
          "base_uri": "https://localhost:8080/"
        },
        "id": "VkIenseGSfGN",
        "outputId": "2a25a989-5b8e-4157-80a9-99aa845667b9"
      },
      "execution_count": 73,
      "outputs": [
        {
          "output_type": "execute_result",
          "data": {
            "text/plain": [
              "tensor([[ 6.,  7.],\n",
              "        [10., 11.],\n",
              "        [14., 15.]])"
            ]
          },
          "metadata": {},
          "execution_count": 73
        }
      ]
    },
    {
      "cell_type": "markdown",
      "source": [
        "- The offset is the location of the first coefficient of the tensor in the storage\n",
        "- The stride is the number of memory elements that should be skipped to go one element the following one in that dimension.\n",
        "\n",
        "- On the illustration, tensor x starts at element 5 of the storage.\n",
        "\n",
        "- We move along dimension 0 by jumping of 4 elements in memory:"
      ],
      "metadata": {
        "id": "kNOq9derSpFv"
      }
    },
    {
      "cell_type": "markdown",
      "source": [
        "### We can explicitly create different “views” of the same storage"
      ],
      "metadata": {
        "id": "0eju42nES33n"
      }
    },
    {
      "cell_type": "code",
      "source": [
        "n = torch.linspace(1, 4, 4)\n",
        "n"
      ],
      "metadata": {
        "colab": {
          "base_uri": "https://localhost:8080/"
        },
        "id": "9ayTShjzSlhB",
        "outputId": "59cf5bc2-dc99-4258-ffbb-559d690b0b49"
      },
      "execution_count": 74,
      "outputs": [
        {
          "output_type": "execute_result",
          "data": {
            "text/plain": [
              "tensor([1., 2., 3., 4.])"
            ]
          },
          "metadata": {},
          "execution_count": 74
        }
      ]
    },
    {
      "cell_type": "code",
      "source": [
        "torch.tensor(0.).set_(n.storage(), 1, (3, 3), (0, 1))"
      ],
      "metadata": {
        "colab": {
          "base_uri": "https://localhost:8080/"
        },
        "id": "1wAJCqxVS6uZ",
        "outputId": "ba67e4ab-7e98-47d4-b992-afee962bbe49"
      },
      "execution_count": 64,
      "outputs": [
        {
          "output_type": "execute_result",
          "data": {
            "text/plain": [
              "tensor([[2., 3., 4.],\n",
              "        [2., 3., 4.],\n",
              "        [2., 3., 4.]])"
            ]
          },
          "metadata": {},
          "execution_count": 64
        }
      ]
    },
    {
      "cell_type": "code",
      "source": [
        "torch.tensor(0.).set_(n.storage(), 1, (2, 4), (1, 0))"
      ],
      "metadata": {
        "colab": {
          "base_uri": "https://localhost:8080/"
        },
        "id": "WjSH5chSTACz",
        "outputId": "0a7430fb-c0ad-4614-bc04-ba1b59cc71bc"
      },
      "execution_count": 65,
      "outputs": [
        {
          "output_type": "execute_result",
          "data": {
            "text/plain": [
              "tensor([[2., 2., 2., 2.],\n",
              "        [3., 3., 3., 3.]])"
            ]
          },
          "metadata": {},
          "execution_count": 65
        }
      ]
    },
    {
      "cell_type": "markdown",
      "source": [
        "This is in particular how transpositions and broadcasting are implemented."
      ],
      "metadata": {
        "id": "cPh2pUhPTD_F"
      }
    },
    {
      "cell_type": "code",
      "source": [
        "x = torch.empty(100, 100)\n",
        "x.stride()"
      ],
      "metadata": {
        "colab": {
          "base_uri": "https://localhost:8080/"
        },
        "id": "g83P-go5TB5l",
        "outputId": "cb522e14-ffcc-4533-e12f-3abd40f6a95e"
      },
      "execution_count": 66,
      "outputs": [
        {
          "output_type": "execute_result",
          "data": {
            "text/plain": [
              "(100, 1)"
            ]
          },
          "metadata": {},
          "execution_count": 66
        }
      ]
    },
    {
      "cell_type": "code",
      "source": [
        "y = x.t()\n",
        "y.stride()"
      ],
      "metadata": {
        "colab": {
          "base_uri": "https://localhost:8080/"
        },
        "id": "xMa0NyhTTHqY",
        "outputId": "ddb71b3c-932d-4b92-f4b3-576a5a5a1cfa"
      },
      "execution_count": 67,
      "outputs": [
        {
          "output_type": "execute_result",
          "data": {
            "text/plain": [
              "(1, 100)"
            ]
          },
          "metadata": {},
          "execution_count": 67
        }
      ]
    },
    {
      "cell_type": "markdown",
      "source": [
        "The main idea of functions like `view`, `narrow`, `transpose`, etc. and of operations involving broadcasting is to never replicate data in memory, but to “play” with the offsets and strides of the underlying storage."
      ],
      "metadata": {
        "id": "-ataCiBJTPRN"
      }
    },
    {
      "cell_type": "markdown",
      "source": [
        "## This organization explains the following (maybe surprising) error"
      ],
      "metadata": {
        "id": "o92vhewKTU5s"
      }
    },
    {
      "cell_type": "code",
      "source": [
        "x = torch.empty(100, 100)\n",
        "x.t().view(-1)"
      ],
      "metadata": {
        "colab": {
          "base_uri": "https://localhost:8080/",
          "height": 198
        },
        "id": "imqaV-fWTK45",
        "outputId": "2ff2937b-c5de-406e-c5c5-9be83f9b0adf"
      },
      "execution_count": null,
      "outputs": [
        {
          "output_type": "error",
          "ename": "RuntimeError",
          "evalue": "ignored",
          "traceback": [
            "\u001b[0;31m---------------------------------------------------------------------------\u001b[0m",
            "\u001b[0;31mRuntimeError\u001b[0m                              Traceback (most recent call last)",
            "\u001b[0;32m<ipython-input-92-c6fa27a09931>\u001b[0m in \u001b[0;36m<module>\u001b[0;34m()\u001b[0m\n\u001b[1;32m      1\u001b[0m \u001b[0mx\u001b[0m \u001b[0;34m=\u001b[0m \u001b[0mtorch\u001b[0m\u001b[0;34m.\u001b[0m\u001b[0mempty\u001b[0m\u001b[0;34m(\u001b[0m\u001b[0;36m100\u001b[0m\u001b[0;34m,\u001b[0m \u001b[0;36m100\u001b[0m\u001b[0;34m)\u001b[0m\u001b[0;34m\u001b[0m\u001b[0;34m\u001b[0m\u001b[0m\n\u001b[0;32m----> 2\u001b[0;31m \u001b[0mx\u001b[0m\u001b[0;34m.\u001b[0m\u001b[0mt\u001b[0m\u001b[0;34m(\u001b[0m\u001b[0;34m)\u001b[0m\u001b[0;34m.\u001b[0m\u001b[0mview\u001b[0m\u001b[0;34m(\u001b[0m\u001b[0;34m-\u001b[0m\u001b[0;36m1\u001b[0m\u001b[0;34m)\u001b[0m\u001b[0;34m\u001b[0m\u001b[0;34m\u001b[0m\u001b[0m\n\u001b[0m",
            "\u001b[0;31mRuntimeError\u001b[0m: view size is not compatible with input tensor's size and stride (at least one dimension spans across two contiguous subspaces). Use .reshape(...) instead."
          ]
        }
      ]
    },
    {
      "cell_type": "markdown",
      "source": [
        "`x.t()` shares `x’s` storage and cannot be “flattened” to 1d."
      ],
      "metadata": {
        "id": "cWRMzfI9TfhL"
      }
    },
    {
      "cell_type": "markdown",
      "source": [
        "This can be fixed with `contiguous()`, which returns a contiguous version of the tensor,\n",
        "making a copy if needed.\n",
        "The function `reshape()` combines `view()`and `contiguous()`.\n"
      ],
      "metadata": {
        "id": "aV_2oVnETkQj"
      }
    },
    {
      "cell_type": "code",
      "source": [
        ""
      ],
      "metadata": {
        "id": "L72W_cnZTY1_"
      },
      "execution_count": null,
      "outputs": []
    }
  ]
}