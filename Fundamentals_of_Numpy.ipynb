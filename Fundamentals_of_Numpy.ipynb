{
  "nbformat": 4,
  "nbformat_minor": 0,
  "metadata": {
    "colab": {
      "name": "Fundamentals_of_Numpy",
      "provenance": [],
      "toc_visible": true,
      "authorship_tag": "ABX9TyP06sINzmndzgr4eJphrCpW",
      "include_colab_link": true
    },
    "kernelspec": {
      "name": "python3",
      "display_name": "Python 3"
    },
    "language_info": {
      "name": "python"
    }
  },
  "cells": [
    {
      "cell_type": "markdown",
      "metadata": {
        "id": "view-in-github",
        "colab_type": "text"
      },
      "source": [
        "<a href=\"https://colab.research.google.com/github/pavanraja753/PyTorch_Learning/blob/main/Fundamentals_of_Numpy.ipynb\" target=\"_parent\"><img src=\"https://colab.research.google.com/assets/colab-badge.svg\" alt=\"Open In Colab\"/></a>"
      ]
    },
    {
      "cell_type": "markdown",
      "source": [
        "## Contents\n",
        "\n",
        "\n",
        "1. Installation\n",
        "2. Initialization\n",
        "3. Accessing and modifying data\n",
        "4. Pivoting data\n",
        "5. Combining data\n",
        "6. Math operations\n",
        "\n"
      ],
      "metadata": {
        "id": "foxgaZc7Nz6b"
      }
    },
    {
      "cell_type": "markdown",
      "source": [
        "## 1. Installation\n",
        "\n",
        "Generally NumPy is pre-installed on Colab.AWS. you should first check if NumPy is available"
      ],
      "metadata": {
        "id": "RSzqwunROATJ"
      }
    },
    {
      "cell_type": "code",
      "execution_count": 2,
      "metadata": {
        "id": "3n8VJ3J_NAGQ"
      },
      "outputs": [],
      "source": [
        "# Import the Numpy\n",
        "import numpy as np\n",
        "\n",
        "np.random.seed(0)"
      ]
    },
    {
      "cell_type": "markdown",
      "source": [
        "# 2. Initialization"
      ],
      "metadata": {
        "id": "qyrDVolGOafx"
      }
    },
    {
      "cell_type": "code",
      "source": [
        "# Initailzes an empty array with size 2 x 2\n",
        "empty_arr = np.empty((2,2))\n",
        "\n",
        "print(\"An empty array is \\n\", empty_arr, \"with dimension \", empty_arr.shape, \"\\n\")\n",
        "\n",
        "zeros_arr = np.zeros((2,3))\n",
        "\n",
        "print(\"An zeros array is \\n\", zeros_arr, \"with dimension \", zeros_arr.shape, \"\\n\")\n",
        "\n",
        "ones_arr = np.ones((4,2))\n",
        "print(\"An ones array is \\n\", ones_arr, \"with dimension \", ones_arr.shape, \"\\n\")\n",
        "\n",
        "tens_arr = np.full((2,2),10)\n",
        "print(\"A filled array is \\n\", tens_arr, \"with dimension \", tens_arr.shape, \"\\n\")\n",
        "\n",
        "zeros_like_arr = np.zeros_like(ones_arr)\n",
        "print(\"A zeros like array is \\n\", zeros_like_arr, \"with dimension \", zeros_like_arr.shape, \"\\n\")\n",
        "\n",
        "full_like_arr = np.full_like(zeros_arr, 0.1, dtype=np.double)\n",
        "print(\"A full like array is \\n\", full_like_arr, \"with dimension \", full_like_arr.shape, \"\\n\")\n",
        "\n",
        "\n",
        "\n"
      ],
      "metadata": {
        "colab": {
          "base_uri": "https://localhost:8080/"
        },
        "id": "E5sPeijRORi-",
        "outputId": "7d70d5de-1874-4d32-906d-41e4ac9dc5d8"
      },
      "execution_count": 11,
      "outputs": [
        {
          "output_type": "stream",
          "name": "stdout",
          "text": [
            "An empty array is \n",
            " [[5.e-323 5.e-323]\n",
            " [5.e-323 5.e-323]] with dimension  (2, 2) \n",
            "\n",
            "An zeros array is \n",
            " [[0. 0. 0.]\n",
            " [0. 0. 0.]] with dimension  (2, 3) \n",
            "\n",
            "An ones array is \n",
            " [[1. 1.]\n",
            " [1. 1.]\n",
            " [1. 1.]\n",
            " [1. 1.]] with dimension  (4, 2) \n",
            "\n",
            "A filled array is \n",
            " [[10 10]\n",
            " [10 10]] with dimension  (2, 2) \n",
            "\n",
            "A zeros like array is \n",
            " [[0. 0.]\n",
            " [0. 0.]\n",
            " [0. 0.]\n",
            " [0. 0.]] with dimension  (4, 2) \n",
            "\n",
            "A full like array is \n",
            " [[0.1 0.1 0.1]\n",
            " [0.1 0.1 0.1]] with dimension  (2, 3) \n",
            "\n"
          ]
        }
      ]
    },
    {
      "cell_type": "markdown",
      "source": [
        "###b. Create an array from existing data"
      ],
      "metadata": {
        "id": "7SOIdB6pQluT"
      }
    },
    {
      "cell_type": "code",
      "source": [
        "# initialize an array with the given list\n",
        "\n",
        "new_list = [1, 2, 3, 4]\n",
        "arr_from_list = np.array(new_list)\n",
        "print(\"An array from given list is \\n\", arr_from_list, \"with dimensions\", arr_from_list.shape, \"\\n\")"
      ],
      "metadata": {
        "colab": {
          "base_uri": "https://localhost:8080/"
        },
        "id": "tVHr66ywO_In",
        "outputId": "ee829575-83e8-43c5-d340-5007315739e3"
      },
      "execution_count": 12,
      "outputs": [
        {
          "output_type": "stream",
          "name": "stdout",
          "text": [
            "An array from given list is \n",
            " [1 2 3 4] with dimensions (4,) \n",
            "\n"
          ]
        }
      ]
    },
    {
      "cell_type": "code",
      "source": [
        "# initialized an arrat by loading data from a txt file\n",
        "txt_arr = np.loadtxt(path_to_txt_file)\n",
        "\n",
        "# initialize an array by loading data from a npy file\n",
        "loaded_arr = np.load(path_to_npy_file)\n"
      ],
      "metadata": {
        "id": "jcPuKdXRRAbK"
      },
      "execution_count": null,
      "outputs": []
    },
    {
      "cell_type": "markdown",
      "source": [
        "###c. Numerical ranges"
      ],
      "metadata": {
        "id": "xHtNm9IiRtI_"
      }
    },
    {
      "cell_type": "code",
      "source": [
        "# return evenly spaced values within a given interval\n",
        "range_arr = np.arange(10)\n",
        "print(\"An array given range is \\n\", range_arr, \"with dimensions\", range_arr.shape, \"\\n\")\n",
        "\n",
        "# return evenly spaced numbers over a specified interval\n",
        "linspace_arr = np.linspace(2.0,3.0,num=5, endpoint=True)\n",
        "print(\"An evenly space array given range is \\n\", linspace_arr, \"with dimensions\", linspace_arr.shape, \"\\n\")\n"
      ],
      "metadata": {
        "colab": {
          "base_uri": "https://localhost:8080/"
        },
        "id": "vHvoiKWVRqCK",
        "outputId": "754c7cb0-25af-4fd6-a0cc-34796cbbdb58"
      },
      "execution_count": 15,
      "outputs": [
        {
          "output_type": "stream",
          "name": "stdout",
          "text": [
            "An array given range is \n",
            " [0 1 2 3 4 5 6 7 8 9] with dimensions (10,) \n",
            "\n",
            "An evenly space array given range is \n",
            " [2.   2.25 2.5  2.75 3.  ] with dimensions (5,) \n",
            "\n"
          ]
        }
      ]
    },
    {
      "cell_type": "markdown",
      "source": [
        "###d. Create an array with random values"
      ],
      "metadata": {
        "id": "RUO9xXuySgOo"
      }
    },
    {
      "cell_type": "code",
      "source": [
        "uniform_rand_arr = np.random.rand(3,2)\n",
        "print(\"An random array given range is \\n\", uniform_rand_arr, \"with dimensions\", uniform_rand_arr.shape, \"\\n\")\n",
        "\n",
        "range_rand_int_arr = np.random.randint(5,size=(2,4))\n",
        "print(range_rand_int_arr)\n",
        "\n",
        "mu =3\n",
        "sigma = 2.5\n",
        "sample_norm_arr = mu + sigma*np.random.randn(2,4)\n",
        "\n",
        "print(sample_norm_arr)"
      ],
      "metadata": {
        "colab": {
          "base_uri": "https://localhost:8080/"
        },
        "id": "G8kDCCd2Sa7D",
        "outputId": "c03c9548-2a4b-47c8-8080-b163472fe6cb"
      },
      "execution_count": 19,
      "outputs": [
        {
          "output_type": "stream",
          "name": "stdout",
          "text": [
            "An random array given range is \n",
            " [[0.83261985 0.77815675]\n",
            " [0.87001215 0.97861834]\n",
            " [0.79915856 0.46147936]] with dimensions (3, 2) \n",
            "\n",
            "[[3 3 0 1]\n",
            " [1 1 0 2]]\n",
            "[[-0.90874173  1.58325595  2.39462621  6.78597821]\n",
            " [ 2.1673565   3.11841204  6.65685112  6.83757282]]\n"
          ]
        }
      ]
    },
    {
      "cell_type": "code",
      "source": [
        ""
      ],
      "metadata": {
        "colab": {
          "base_uri": "https://localhost:8080/"
        },
        "id": "Ce_DLZqwSwlH",
        "outputId": "6f249b57-672e-4284-8b81-e9f08788afb5"
      },
      "execution_count": 18,
      "outputs": [
        {
          "output_type": "stream",
          "name": "stdout",
          "text": [
            "[[0 1 1 0]\n",
            " [1 4 3 0]]\n"
          ]
        }
      ]
    },
    {
      "cell_type": "markdown",
      "source": [
        "# 3. Accessing and modifying data\n",
        "\n",
        "###a. Indexing: Accessing values from Numpy Arrays"
      ],
      "metadata": {
        "id": "jY2cyEURTnPi"
      }
    },
    {
      "cell_type": "code",
      "source": [
        "n = np.random.randn(4,5,6) # see this a 4 batches, each containing 5 rows and 6 columns\n",
        "n"
      ],
      "metadata": {
        "id": "o3lCeKeBTDBH"
      },
      "execution_count": null,
      "outputs": []
    },
    {
      "cell_type": "code",
      "source": [
        "n[1,2,3] # return values in the fourth column of 3 rd row of the 2nd batch"
      ],
      "metadata": {
        "colab": {
          "base_uri": "https://localhost:8080/"
        },
        "id": "y6SLRXv2T_yB",
        "outputId": "9a0b1381-33a0-4446-f115-248e420bc305"
      },
      "execution_count": 23,
      "outputs": [
        {
          "output_type": "execute_result",
          "data": {
            "text/plain": [
              "-1.0322430367309077"
            ]
          },
          "metadata": {},
          "execution_count": 23
        }
      ]
    },
    {
      "cell_type": "markdown",
      "source": [
        "###b. Slicing"
      ],
      "metadata": {
        "id": "ojN5Uz-wUeC5"
      }
    },
    {
      "cell_type": "code",
      "source": [
        "# slice along a batch\n",
        "print(n[0,:,:]) # same as: n[0] "
      ],
      "metadata": {
        "colab": {
          "base_uri": "https://localhost:8080/"
        },
        "id": "7tebsvw2UUkh",
        "outputId": "c51d6520-4f8c-4390-982c-44bb922a46d1"
      },
      "execution_count": 24,
      "outputs": [
        {
          "output_type": "stream",
          "name": "stdout",
          "text": [
            "[[ 1.19732198  1.88335386  0.71422382  2.28433335  1.56410258  0.61110371]\n",
            " [-0.87736332 -1.6210875  -0.581673   -0.53783395 -1.55602368 -0.05446484]\n",
            " [-1.81127879 -0.63117522 -0.92815918  1.49072192  0.19549934 -0.47160433]\n",
            " [ 1.81235465 -2.29413748  0.65120935 -1.13049645 -0.77734666  1.11593845]\n",
            " [ 1.33945302 -1.76743365  0.42441246  1.08930905 -0.38418568  0.63220141]]\n"
          ]
        }
      ]
    },
    {
      "cell_type": "code",
      "source": [
        "print(n[0,0:3,0:4])"
      ],
      "metadata": {
        "colab": {
          "base_uri": "https://localhost:8080/"
        },
        "id": "a1vWiLl_Uofl",
        "outputId": "8d03c3cf-51a6-4954-ab72-c0bda7ae8fb1"
      },
      "execution_count": 25,
      "outputs": [
        {
          "output_type": "stream",
          "name": "stdout",
          "text": [
            "[[ 1.19732198  1.88335386  0.71422382  2.28433335]\n",
            " [-0.87736332 -1.6210875  -0.581673   -0.53783395]\n",
            " [-1.81127879 -0.63117522 -0.92815918  1.49072192]]\n"
          ]
        }
      ]
    },
    {
      "cell_type": "code",
      "source": [
        "# slice along multiple batch \n",
        "print(n[:,3,4])"
      ],
      "metadata": {
        "colab": {
          "base_uri": "https://localhost:8080/"
        },
        "id": "CYqjnszpUtrw",
        "outputId": "9aa02397-030c-47b6-df35-fb583be98cd2"
      },
      "execution_count": 26,
      "outputs": [
        {
          "output_type": "stream",
          "name": "stdout",
          "text": [
            "[-0.77734666 -2.21836076  0.22858201 -0.72805772]\n"
          ]
        }
      ]
    },
    {
      "cell_type": "markdown",
      "source": [
        "### Slicing at Interval"
      ],
      "metadata": {
        "id": "5d-aPdAwVGkd"
      }
    },
    {
      "cell_type": "code",
      "source": [
        "print(n[0::2])"
      ],
      "metadata": {
        "id": "R3ngaUdWVDzq"
      },
      "execution_count": null,
      "outputs": []
    },
    {
      "cell_type": "markdown",
      "source": [
        "###c. Modifying Numpy Arrays"
      ],
      "metadata": {
        "id": "MxVP2irvVZ0l"
      }
    },
    {
      "cell_type": "code",
      "source": [
        "n_copy = np.copy(n)"
      ],
      "metadata": {
        "id": "gFIojNwlVSd_"
      },
      "execution_count": 30,
      "outputs": []
    },
    {
      "cell_type": "markdown",
      "source": [
        "### Modify single values"
      ],
      "metadata": {
        "id": "t9dK-wNyVrpK"
      }
    },
    {
      "cell_type": "code",
      "source": [
        "print(n_copy[2,4,1] ==n[2,4,1])\n",
        "\n",
        "n_copy[2,4,1] =0.005\n",
        "\n",
        "print(n_copy[2,4,1] ==n[2,4,1])\n",
        "\n"
      ],
      "metadata": {
        "colab": {
          "base_uri": "https://localhost:8080/"
        },
        "id": "LBvRnA1VVoe3",
        "outputId": "62bb6a59-7d7d-498f-dd4f-3a2085367684"
      },
      "execution_count": 31,
      "outputs": [
        {
          "output_type": "stream",
          "name": "stdout",
          "text": [
            "True\n",
            "False\n"
          ]
        }
      ]
    },
    {
      "cell_type": "markdown",
      "source": [
        "### Modifying multiple values\n"
      ],
      "metadata": {
        "id": "OHFknVltV86c"
      }
    },
    {
      "cell_type": "code",
      "source": [
        "# check if values in the two arrays are the same before copy\n",
        "print(f\"Are the arrays the same before modification: {n_copy[2, 3] == n[2, 3]}\")\n",
        "print(f\"Before modifying values: {n_copy[2, 3]}\")\n",
        "\n",
        "n_copy[2, 3] = 0.5\n",
        "\n",
        "print(f\"After modifying values: {n_copy[2, 3]}\")\n",
        "\n",
        "# check if values in the two arrays are the same after copy\n",
        "print(f\"Are the arrays the same after modification: {n_copy[2, 3] == n[2, 3]}\")"
      ],
      "metadata": {
        "colab": {
          "base_uri": "https://localhost:8080/"
        },
        "id": "TweQdopvV5M0",
        "outputId": "cf3e439a-8d51-45c8-a057-762c1cacf839"
      },
      "execution_count": 32,
      "outputs": [
        {
          "output_type": "stream",
          "name": "stdout",
          "text": [
            "Are the arrays the same before modification: [ True  True  True  True  True  True]\n",
            "Before modifying values: [-0.42389623 -3.51476812 -1.34315673  1.42550613  0.22858201 -0.25766376]\n",
            "After modifying values: [0.5 0.5 0.5 0.5 0.5 0.5]\n",
            "Are the arrays the same after modification: [False False False False False False]\n"
          ]
        }
      ]
    },
    {
      "cell_type": "markdown",
      "source": [
        "# 4. Pivoting data\n",
        "\n",
        "##a. Reshaping Arrays\n",
        "\n",
        "Array reshaping is an operation that changes the shape of an arrat whilst maintainign the same data in the array.\n",
        "\n",
        "For instance, reshaping from (3,4,5) -> (2,5,6) or from (3,4,5) -> (6,10). A reshape operation is valid, as long as the product of new shape specified matched the product of the old shape"
      ],
      "metadata": {
        "id": "qpRh7PdpWu_6"
      }
    },
    {
      "cell_type": "markdown",
      "source": [
        "#### Reshaping within the same number of dimensions"
      ],
      "metadata": {
        "id": "i_g8xsaIXVNh"
      }
    },
    {
      "cell_type": "code",
      "source": [
        "s= np.random.rand(3, 4, 5)\n",
        "print(f\"Original Shape:{s.shape}\")"
      ],
      "metadata": {
        "colab": {
          "base_uri": "https://localhost:8080/"
        },
        "id": "BceDwoORWXgt",
        "outputId": "2ecb19bd-2d68-4713-a7ce-333e465493a3"
      },
      "execution_count": 33,
      "outputs": [
        {
          "output_type": "stream",
          "name": "stdout",
          "text": [
            "Original Shape:(3, 4, 5)\n"
          ]
        }
      ]
    },
    {
      "cell_type": "code",
      "source": [
        "s.size\n",
        "print(s)"
      ],
      "metadata": {
        "colab": {
          "base_uri": "https://localhost:8080/"
        },
        "id": "_PZWAIN8XjeD",
        "outputId": "df31151a-c0d2-450b-a6e9-0798784bb220"
      },
      "execution_count": 36,
      "outputs": [
        {
          "output_type": "stream",
          "name": "stdout",
          "text": [
            "[[[0.0446123  0.79979588 0.07695645 0.51883515 0.3068101 ]\n",
            "  [0.57754295 0.95943334 0.64557024 0.03536244 0.43040244]\n",
            "  [0.51001685 0.53617749 0.68139251 0.2775961  0.12886057]\n",
            "  [0.39267568 0.95640572 0.18713089 0.90398395 0.54380595]]\n",
            "\n",
            " [[0.45691142 0.88204141 0.45860396 0.72416764 0.39902532]\n",
            "  [0.90404439 0.69002502 0.69962205 0.3277204  0.75677864]\n",
            "  [0.63606106 0.24002027 0.16053882 0.79639147 0.9591666 ]\n",
            "  [0.45813883 0.59098417 0.85772264 0.45722345 0.95187448]]\n",
            "\n",
            " [[0.57575116 0.82076712 0.90884372 0.81552382 0.15941446]\n",
            "  [0.62889844 0.39843426 0.06271295 0.42403225 0.25868407]\n",
            "  [0.84903831 0.03330463 0.95898272 0.35536885 0.35670689]\n",
            "  [0.0163285  0.18523233 0.4012595  0.92929142 0.09961493]]]\n"
          ]
        }
      ]
    },
    {
      "cell_type": "code",
      "source": [
        "s1= s.reshape(2,6,5)\n",
        "print(f\"Reshaped from s:{s1.shape}\")\n",
        "print(s1)"
      ],
      "metadata": {
        "colab": {
          "base_uri": "https://localhost:8080/"
        },
        "id": "E_0CT4snXmFA",
        "outputId": "70cdbe81-ac5a-4b72-f179-8e4bc81a56c6"
      },
      "execution_count": 38,
      "outputs": [
        {
          "output_type": "stream",
          "name": "stdout",
          "text": [
            "Reshaped from s:(2, 6, 5)\n",
            "[[[0.0446123  0.79979588 0.07695645 0.51883515 0.3068101 ]\n",
            "  [0.57754295 0.95943334 0.64557024 0.03536244 0.43040244]\n",
            "  [0.51001685 0.53617749 0.68139251 0.2775961  0.12886057]\n",
            "  [0.39267568 0.95640572 0.18713089 0.90398395 0.54380595]\n",
            "  [0.45691142 0.88204141 0.45860396 0.72416764 0.39902532]\n",
            "  [0.90404439 0.69002502 0.69962205 0.3277204  0.75677864]]\n",
            "\n",
            " [[0.63606106 0.24002027 0.16053882 0.79639147 0.9591666 ]\n",
            "  [0.45813883 0.59098417 0.85772264 0.45722345 0.95187448]\n",
            "  [0.57575116 0.82076712 0.90884372 0.81552382 0.15941446]\n",
            "  [0.62889844 0.39843426 0.06271295 0.42403225 0.25868407]\n",
            "  [0.84903831 0.03330463 0.95898272 0.35536885 0.35670689]\n",
            "  [0.0163285  0.18523233 0.4012595  0.92929142 0.09961493]]]\n"
          ]
        }
      ]
    },
    {
      "cell_type": "markdown",
      "source": [
        "### Reshaping to a different number of dimensiona"
      ],
      "metadata": {
        "id": "RZ57v8KjX0kc"
      }
    },
    {
      "cell_type": "code",
      "source": [
        "r= np.arange(120)\n",
        "print(f\"Original shape: {r.shape}\")"
      ],
      "metadata": {
        "colab": {
          "base_uri": "https://localhost:8080/"
        },
        "id": "fGEjkT1OXxJZ",
        "outputId": "a7198f55-567f-420f-afaf-9a656a9acdb9"
      },
      "execution_count": 40,
      "outputs": [
        {
          "output_type": "stream",
          "name": "stdout",
          "text": [
            "Original shape: (120,)\n"
          ]
        }
      ]
    },
    {
      "cell_type": "code",
      "source": [
        "# (120,) -> (3, 4, 10)\n",
        "r1 = r.reshape(3,4,10)\n",
        "print(f\"Reshape from r: {r1.shape}\")"
      ],
      "metadata": {
        "colab": {
          "base_uri": "https://localhost:8080/"
        },
        "id": "a2uLpPVlYarG",
        "outputId": "627d0a37-e880-412d-c3d7-d5119bc24ccb"
      },
      "execution_count": 41,
      "outputs": [
        {
          "output_type": "stream",
          "name": "stdout",
          "text": [
            "Reshape from r: (3, 4, 10)\n"
          ]
        }
      ]
    },
    {
      "cell_type": "code",
      "source": [
        "print(r1)"
      ],
      "metadata": {
        "colab": {
          "base_uri": "https://localhost:8080/"
        },
        "id": "FdmyT19jYqIa",
        "outputId": "073240cd-f274-4809-9dc9-cb7a094eeb52"
      },
      "execution_count": 42,
      "outputs": [
        {
          "output_type": "stream",
          "name": "stdout",
          "text": [
            "[[[  0   1   2   3   4   5   6   7   8   9]\n",
            "  [ 10  11  12  13  14  15  16  17  18  19]\n",
            "  [ 20  21  22  23  24  25  26  27  28  29]\n",
            "  [ 30  31  32  33  34  35  36  37  38  39]]\n",
            "\n",
            " [[ 40  41  42  43  44  45  46  47  48  49]\n",
            "  [ 50  51  52  53  54  55  56  57  58  59]\n",
            "  [ 60  61  62  63  64  65  66  67  68  69]\n",
            "  [ 70  71  72  73  74  75  76  77  78  79]]\n",
            "\n",
            " [[ 80  81  82  83  84  85  86  87  88  89]\n",
            "  [ 90  91  92  93  94  95  96  97  98  99]\n",
            "  [100 101 102 103 104 105 106 107 108 109]\n",
            "  [110 111 112 113 114 115 116 117 118 119]]]\n"
          ]
        }
      ]
    },
    {
      "cell_type": "code",
      "source": [
        "#(3, 4, 10) -> (6, 20)\n",
        "r2 = r1.reshape(6,20)"
      ],
      "metadata": {
        "id": "JQJuNPFVYrru"
      },
      "execution_count": 43,
      "outputs": []
    },
    {
      "cell_type": "code",
      "source": [
        "print(r2.shape)"
      ],
      "metadata": {
        "colab": {
          "base_uri": "https://localhost:8080/"
        },
        "id": "Ckh0O6HvY2Ft",
        "outputId": "b0cdc12b-c827-40cb-d848-ec7b3159feb0"
      },
      "execution_count": 44,
      "outputs": [
        {
          "output_type": "stream",
          "name": "stdout",
          "text": [
            "(6, 20)\n"
          ]
        }
      ]
    },
    {
      "cell_type": "markdown",
      "source": [
        "###b. Transposing Arrays"
      ],
      "metadata": {
        "id": "qKgy6IYdZH3q"
      }
    },
    {
      "cell_type": "code",
      "source": [
        "w = np.arange(90).reshape([3,5,6])\n",
        "w"
      ],
      "metadata": {
        "colab": {
          "base_uri": "https://localhost:8080/"
        },
        "id": "pRFSFq-9Y3qP",
        "outputId": "d5af3cf2-f2cc-493a-f683-8c1652ceb7d3"
      },
      "execution_count": 45,
      "outputs": [
        {
          "output_type": "execute_result",
          "data": {
            "text/plain": [
              "array([[[ 0,  1,  2,  3,  4,  5],\n",
              "        [ 6,  7,  8,  9, 10, 11],\n",
              "        [12, 13, 14, 15, 16, 17],\n",
              "        [18, 19, 20, 21, 22, 23],\n",
              "        [24, 25, 26, 27, 28, 29]],\n",
              "\n",
              "       [[30, 31, 32, 33, 34, 35],\n",
              "        [36, 37, 38, 39, 40, 41],\n",
              "        [42, 43, 44, 45, 46, 47],\n",
              "        [48, 49, 50, 51, 52, 53],\n",
              "        [54, 55, 56, 57, 58, 59]],\n",
              "\n",
              "       [[60, 61, 62, 63, 64, 65],\n",
              "        [66, 67, 68, 69, 70, 71],\n",
              "        [72, 73, 74, 75, 76, 77],\n",
              "        [78, 79, 80, 81, 82, 83],\n",
              "        [84, 85, 86, 87, 88, 89]]])"
            ]
          },
          "metadata": {},
          "execution_count": 45
        }
      ]
    },
    {
      "cell_type": "markdown",
      "source": [
        "### Transpose witout speciying axes"
      ],
      "metadata": {
        "id": "V9jSYO5uZTax"
      }
    },
    {
      "cell_type": "code",
      "source": [
        "w1 = np.transpose(w)\n",
        "print(w1.shape)"
      ],
      "metadata": {
        "colab": {
          "base_uri": "https://localhost:8080/"
        },
        "id": "A7hVobh6ZRfK",
        "outputId": "cd18f463-24c2-4241-9c05-9af10478939c"
      },
      "execution_count": 47,
      "outputs": [
        {
          "output_type": "stream",
          "name": "stdout",
          "text": [
            "(6, 5, 3)\n"
          ]
        }
      ]
    },
    {
      "cell_type": "markdown",
      "source": [
        "### Transpose with axes"
      ],
      "metadata": {
        "id": "Nt0L_xR7Z0TY"
      }
    },
    {
      "cell_type": "code",
      "source": [
        "w2 = np.transpose(w, axes=(0,2,1))\n",
        "print(w2)\n",
        "print(w.shape)\n",
        "print(w2.shape)"
      ],
      "metadata": {
        "colab": {
          "base_uri": "https://localhost:8080/"
        },
        "id": "daw5P0wXZbEI",
        "outputId": "0bb39546-4839-44e4-af61-be8cb21b4762"
      },
      "execution_count": 49,
      "outputs": [
        {
          "output_type": "stream",
          "name": "stdout",
          "text": [
            "[[[ 0  6 12 18 24]\n",
            "  [ 1  7 13 19 25]\n",
            "  [ 2  8 14 20 26]\n",
            "  [ 3  9 15 21 27]\n",
            "  [ 4 10 16 22 28]\n",
            "  [ 5 11 17 23 29]]\n",
            "\n",
            " [[30 36 42 48 54]\n",
            "  [31 37 43 49 55]\n",
            "  [32 38 44 50 56]\n",
            "  [33 39 45 51 57]\n",
            "  [34 40 46 52 58]\n",
            "  [35 41 47 53 59]]\n",
            "\n",
            " [[60 66 72 78 84]\n",
            "  [61 67 73 79 85]\n",
            "  [62 68 74 80 86]\n",
            "  [63 69 75 81 87]\n",
            "  [64 70 76 82 88]\n",
            "  [65 71 77 83 89]]]\n",
            "(3, 5, 6)\n",
            "(3, 6, 5)\n"
          ]
        }
      ]
    },
    {
      "cell_type": "code",
      "source": [
        "w3 = np.transpose(w,axes =(1, 2, 0))\n",
        "print(w3.shape)\n",
        "print(w3)"
      ],
      "metadata": {
        "id": "aoglBzD6aYD9"
      },
      "execution_count": null,
      "outputs": []
    },
    {
      "cell_type": "markdown",
      "source": [
        "###c. Flattening Arrays\n",
        "\n",
        "the flatten operation in Numpy collapses arrays of multiple dimensions into one dimension\n",
        "\n",
        "Different orders can be specified when flattenign Numpy Arrays. See examples below"
      ],
      "metadata": {
        "id": "qUxVBMAXbnpx"
      }
    },
    {
      "cell_type": "code",
      "source": [
        "k = np.random.rand(5,6)\n",
        "k"
      ],
      "metadata": {
        "colab": {
          "base_uri": "https://localhost:8080/"
        },
        "id": "fKo5mDlHa8bR",
        "outputId": "3271b44d-a366-43b0-ee5f-c3153ff2bbc9"
      },
      "execution_count": 52,
      "outputs": [
        {
          "output_type": "execute_result",
          "data": {
            "text/plain": [
              "array([[0.66585912, 0.51730852, 0.42408899, 0.55468781, 0.28705152,\n",
              "        0.70657471],\n",
              "       [0.41485687, 0.36054556, 0.82865691, 0.92496691, 0.04600731,\n",
              "        0.23262699],\n",
              "       [0.34851937, 0.81496648, 0.98549143, 0.9689717 , 0.90494835,\n",
              "        0.29655627],\n",
              "       [0.99201124, 0.24942004, 0.10590615, 0.95095261, 0.23342026,\n",
              "        0.68976827],\n",
              "       [0.05835636, 0.7307091 , 0.88172021, 0.2724369 , 0.3790569 ,\n",
              "        0.37429618]])"
            ]
          },
          "metadata": {},
          "execution_count": 52
        }
      ]
    },
    {
      "cell_type": "markdown",
      "source": [
        "### Flattening Arrays alon the row(default order)"
      ],
      "metadata": {
        "id": "1seQz8ffb5aN"
      }
    },
    {
      "cell_type": "code",
      "source": [
        "k.flatten() # all rows are stacked on each other into a 1D array"
      ],
      "metadata": {
        "colab": {
          "base_uri": "https://localhost:8080/"
        },
        "id": "_Jtmdfn_b4sY",
        "outputId": "82987ac1-42c0-43b8-8fb5-d982bde7ded1"
      },
      "execution_count": 53,
      "outputs": [
        {
          "output_type": "execute_result",
          "data": {
            "text/plain": [
              "array([0.66585912, 0.51730852, 0.42408899, 0.55468781, 0.28705152,\n",
              "       0.70657471, 0.41485687, 0.36054556, 0.82865691, 0.92496691,\n",
              "       0.04600731, 0.23262699, 0.34851937, 0.81496648, 0.98549143,\n",
              "       0.9689717 , 0.90494835, 0.29655627, 0.99201124, 0.24942004,\n",
              "       0.10590615, 0.95095261, 0.23342026, 0.68976827, 0.05835636,\n",
              "       0.7307091 , 0.88172021, 0.2724369 , 0.3790569 , 0.37429618])"
            ]
          },
          "metadata": {},
          "execution_count": 53
        }
      ]
    },
    {
      "cell_type": "code",
      "source": [
        "k.flatten().shape"
      ],
      "metadata": {
        "colab": {
          "base_uri": "https://localhost:8080/"
        },
        "id": "-8IRX3l1cIMR",
        "outputId": "1d8324b3-264d-4320-db17-e875afe32204"
      },
      "execution_count": 56,
      "outputs": [
        {
          "output_type": "execute_result",
          "data": {
            "text/plain": [
              "(30,)"
            ]
          },
          "metadata": {},
          "execution_count": 56
        }
      ]
    },
    {
      "cell_type": "markdown",
      "source": [
        "### Flattening Arrays along the column\n"
      ],
      "metadata": {
        "id": "lX0SqPR5cmBz"
      }
    },
    {
      "cell_type": "code",
      "source": [
        "k.flatten('F') # forms a 1D array where elements in a column are listed before movinf to the next columns"
      ],
      "metadata": {
        "colab": {
          "base_uri": "https://localhost:8080/"
        },
        "id": "G_KzEbAfcIp6",
        "outputId": "47948b5a-3d11-4ecb-b15e-d839da6335a5"
      },
      "execution_count": 57,
      "outputs": [
        {
          "output_type": "execute_result",
          "data": {
            "text/plain": [
              "array([0.66585912, 0.41485687, 0.34851937, 0.99201124, 0.05835636,\n",
              "       0.51730852, 0.36054556, 0.81496648, 0.24942004, 0.7307091 ,\n",
              "       0.42408899, 0.82865691, 0.98549143, 0.10590615, 0.88172021,\n",
              "       0.55468781, 0.92496691, 0.9689717 , 0.95095261, 0.2724369 ,\n",
              "       0.28705152, 0.04600731, 0.90494835, 0.23342026, 0.3790569 ,\n",
              "       0.70657471, 0.23262699, 0.29655627, 0.68976827, 0.37429618])"
            ]
          },
          "metadata": {},
          "execution_count": 57
        }
      ]
    },
    {
      "cell_type": "markdown",
      "source": [
        "### Flattening Arrays using Ravel"
      ],
      "metadata": {
        "id": "tkv7CZ-zdKBX"
      }
    },
    {
      "cell_type": "code",
      "source": [
        "k.ravel() # ravel is another way compared to flatten"
      ],
      "metadata": {
        "colab": {
          "base_uri": "https://localhost:8080/"
        },
        "id": "auvGU01yc22D",
        "outputId": "eedf56eb-8fc4-4d3f-fb05-c2f3c93b533c"
      },
      "execution_count": 58,
      "outputs": [
        {
          "output_type": "execute_result",
          "data": {
            "text/plain": [
              "array([0.66585912, 0.51730852, 0.42408899, 0.55468781, 0.28705152,\n",
              "       0.70657471, 0.41485687, 0.36054556, 0.82865691, 0.92496691,\n",
              "       0.04600731, 0.23262699, 0.34851937, 0.81496648, 0.98549143,\n",
              "       0.9689717 , 0.90494835, 0.29655627, 0.99201124, 0.24942004,\n",
              "       0.10590615, 0.95095261, 0.23342026, 0.68976827, 0.05835636,\n",
              "       0.7307091 , 0.88172021, 0.2724369 , 0.3790569 , 0.37429618])"
            ]
          },
          "metadata": {},
          "execution_count": 58
        }
      ]
    },
    {
      "cell_type": "code",
      "source": [
        "k.ravel('F')"
      ],
      "metadata": {
        "colab": {
          "base_uri": "https://localhost:8080/"
        },
        "id": "GZtmF2X1dN6K",
        "outputId": "e163ac39-7a64-42c7-b8d5-18c6166bcf60"
      },
      "execution_count": 59,
      "outputs": [
        {
          "output_type": "execute_result",
          "data": {
            "text/plain": [
              "array([0.66585912, 0.41485687, 0.34851937, 0.99201124, 0.05835636,\n",
              "       0.51730852, 0.36054556, 0.81496648, 0.24942004, 0.7307091 ,\n",
              "       0.42408899, 0.82865691, 0.98549143, 0.10590615, 0.88172021,\n",
              "       0.55468781, 0.92496691, 0.9689717 , 0.95095261, 0.2724369 ,\n",
              "       0.28705152, 0.04600731, 0.90494835, 0.23342026, 0.3790569 ,\n",
              "       0.70657471, 0.23262699, 0.29655627, 0.68976827, 0.37429618])"
            ]
          },
          "metadata": {},
          "execution_count": 59
        }
      ]
    },
    {
      "cell_type": "markdown",
      "source": [
        "### Flattening Array using Numpy Reshape"
      ],
      "metadata": {
        "id": "reKAObOwdY2G"
      }
    },
    {
      "cell_type": "code",
      "source": [
        "k.reshape(-1)"
      ],
      "metadata": {
        "colab": {
          "base_uri": "https://localhost:8080/"
        },
        "id": "4BWSKXBidR3f",
        "outputId": "199b23c7-123d-4fe5-f088-292b41072fe1"
      },
      "execution_count": 63,
      "outputs": [
        {
          "output_type": "execute_result",
          "data": {
            "text/plain": [
              "array([0.66585912, 0.51730852, 0.42408899, 0.55468781, 0.28705152,\n",
              "       0.70657471, 0.41485687, 0.36054556, 0.82865691, 0.92496691,\n",
              "       0.04600731, 0.23262699, 0.34851937, 0.81496648, 0.98549143,\n",
              "       0.9689717 , 0.90494835, 0.29655627, 0.99201124, 0.24942004,\n",
              "       0.10590615, 0.95095261, 0.23342026, 0.68976827, 0.05835636,\n",
              "       0.7307091 , 0.88172021, 0.2724369 , 0.3790569 , 0.37429618])"
            ]
          },
          "metadata": {},
          "execution_count": 63
        }
      ]
    },
    {
      "cell_type": "markdown",
      "source": [
        "### Flatten vs Ravel"
      ],
      "metadata": {
        "id": "pE_0XmYWdw0U"
      }
    },
    {
      "cell_type": "code",
      "source": [
        "test = np.random.rand(4,5)"
      ],
      "metadata": {
        "id": "ZV_EnEz6dkBL"
      },
      "execution_count": 64,
      "outputs": []
    },
    {
      "cell_type": "code",
      "source": [
        "test_flatten = test.flatten()\n",
        "test_ravel = test.ravel()\n",
        "\n",
        "print(test_flatten)\n",
        "print(test_ravel)"
      ],
      "metadata": {
        "colab": {
          "base_uri": "https://localhost:8080/"
        },
        "id": "Y_kg9pQqd1_1",
        "outputId": "30de1ba1-b279-4252-da09-de5c37a4ed21"
      },
      "execution_count": 65,
      "outputs": [
        {
          "output_type": "stream",
          "name": "stdout",
          "text": [
            "[0.74878826 0.23780724 0.1718531  0.44929165 0.30446841 0.83918912\n",
            " 0.23774183 0.50238946 0.9425836  0.6339977  0.86728941 0.94020969\n",
            " 0.75076486 0.69957506 0.96796557 0.99440079 0.45182168 0.07086978\n",
            " 0.29279403 0.15235471]\n",
            "[0.74878826 0.23780724 0.1718531  0.44929165 0.30446841 0.83918912\n",
            " 0.23774183 0.50238946 0.9425836  0.6339977  0.86728941 0.94020969\n",
            " 0.75076486 0.69957506 0.96796557 0.99440079 0.45182168 0.07086978\n",
            " 0.29279403 0.15235471]\n"
          ]
        }
      ]
    },
    {
      "cell_type": "code",
      "source": [
        "test_flatten[0] = 5\n",
        "print(test_flatten)\n",
        "print(test)"
      ],
      "metadata": {
        "colab": {
          "base_uri": "https://localhost:8080/"
        },
        "id": "LKD2LQHqeA4E",
        "outputId": "7b2084d5-79f7-47a8-8929-1dab9ebdf521"
      },
      "execution_count": 67,
      "outputs": [
        {
          "output_type": "stream",
          "name": "stdout",
          "text": [
            "[5.         0.23780724 0.1718531  0.44929165 0.30446841 0.83918912\n",
            " 0.23774183 0.50238946 0.9425836  0.6339977  0.86728941 0.94020969\n",
            " 0.75076486 0.69957506 0.96796557 0.99440079 0.45182168 0.07086978\n",
            " 0.29279403 0.15235471]\n",
            "[[0.74878826 0.23780724 0.1718531  0.44929165 0.30446841]\n",
            " [0.83918912 0.23774183 0.50238946 0.9425836  0.6339977 ]\n",
            " [0.86728941 0.94020969 0.75076486 0.69957506 0.96796557]\n",
            " [0.99440079 0.45182168 0.07086978 0.29279403 0.15235471]]\n"
          ]
        }
      ]
    },
    {
      "cell_type": "code",
      "source": [
        "# Ravel uses references mechanism. So it changes the values of the test_array as well \n",
        "test_ravel[0] = 5\n",
        "print(test_ravel)\n",
        "print(test)"
      ],
      "metadata": {
        "colab": {
          "base_uri": "https://localhost:8080/"
        },
        "id": "bv-HzSwieSE8",
        "outputId": "6f9c9dba-ebf2-4dd1-82b3-d710cdd9d7f1"
      },
      "execution_count": 68,
      "outputs": [
        {
          "output_type": "stream",
          "name": "stdout",
          "text": [
            "[5.         0.23780724 0.1718531  0.44929165 0.30446841 0.83918912\n",
            " 0.23774183 0.50238946 0.9425836  0.6339977  0.86728941 0.94020969\n",
            " 0.75076486 0.69957506 0.96796557 0.99440079 0.45182168 0.07086978\n",
            " 0.29279403 0.15235471]\n",
            "[[5.         0.23780724 0.1718531  0.44929165 0.30446841]\n",
            " [0.83918912 0.23774183 0.50238946 0.9425836  0.6339977 ]\n",
            " [0.86728941 0.94020969 0.75076486 0.69957506 0.96796557]\n",
            " [0.99440079 0.45182168 0.07086978 0.29279403 0.15235471]]\n"
          ]
        }
      ]
    },
    {
      "cell_type": "code",
      "source": [
        ""
      ],
      "metadata": {
        "id": "8Vukq9bKehB4"
      },
      "execution_count": null,
      "outputs": []
    }
  ]
}