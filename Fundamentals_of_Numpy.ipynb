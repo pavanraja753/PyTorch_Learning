{
  "nbformat": 4,
  "nbformat_minor": 0,
  "metadata": {
    "colab": {
      "name": "Fundamentals_of_Numpy",
      "provenance": [],
      "toc_visible": true,
      "authorship_tag": "ABX9TyMgbU1g3q0reyymR4z9+WjH",
      "include_colab_link": true
    },
    "kernelspec": {
      "name": "python3",
      "display_name": "Python 3"
    },
    "language_info": {
      "name": "python"
    }
  },
  "cells": [
    {
      "cell_type": "markdown",
      "metadata": {
        "id": "view-in-github",
        "colab_type": "text"
      },
      "source": [
        "<a href=\"https://colab.research.google.com/github/pavanraja753/PyTorch_Learning/blob/main/Fundamentals_of_Numpy.ipynb\" target=\"_parent\"><img src=\"https://colab.research.google.com/assets/colab-badge.svg\" alt=\"Open In Colab\"/></a>"
      ]
    },
    {
      "cell_type": "markdown",
      "source": [
        "## Contents\n",
        "\n",
        "\n",
        "1. Installation\n",
        "2. Initialization\n",
        "3. Accessing and modifying data\n",
        "4. Pivoting data\n",
        "5. Combining data\n",
        "6. Math operations\n",
        "\n"
      ],
      "metadata": {
        "id": "foxgaZc7Nz6b"
      }
    },
    {
      "cell_type": "markdown",
      "source": [
        "## 1. Installation\n",
        "\n",
        "Generally NumPy is pre-installed on Colab.AWS. you should first check if NumPy is available"
      ],
      "metadata": {
        "id": "RSzqwunROATJ"
      }
    },
    {
      "cell_type": "code",
      "execution_count": 2,
      "metadata": {
        "id": "3n8VJ3J_NAGQ"
      },
      "outputs": [],
      "source": [
        "# Import the Numpy\n",
        "import numpy as np\n",
        "\n",
        "np.random.seed(0)"
      ]
    },
    {
      "cell_type": "markdown",
      "source": [
        "# 2. Initialization"
      ],
      "metadata": {
        "id": "qyrDVolGOafx"
      }
    },
    {
      "cell_type": "code",
      "source": [
        "# Initailzes an empty array with size 2 x 2\n",
        "empty_arr = np.empty((2,2))\n",
        "\n",
        "print(\"An empty array is \\n\", empty_arr, \"with dimension \", empty_arr.shape, \"\\n\")\n",
        "\n",
        "zeros_arr = np.zeros((2,3))\n",
        "\n",
        "print(\"An zeros array is \\n\", zeros_arr, \"with dimension \", zeros_arr.shape, \"\\n\")\n",
        "\n",
        "ones_arr = np.ones((4,2))\n",
        "print(\"An ones array is \\n\", ones_arr, \"with dimension \", ones_arr.shape, \"\\n\")\n",
        "\n",
        "tens_arr = np.full((2,2),10)\n",
        "print(\"A filled array is \\n\", tens_arr, \"with dimension \", tens_arr.shape, \"\\n\")\n",
        "\n",
        "zeros_like_arr = np.zeros_like(ones_arr)\n",
        "print(\"A zeros like array is \\n\", zeros_like_arr, \"with dimension \", zeros_like_arr.shape, \"\\n\")\n",
        "\n",
        "full_like_arr = np.full_like(zeros_arr, 0.1, dtype=np.double)\n",
        "print(\"A full like array is \\n\", full_like_arr, \"with dimension \", full_like_arr.shape, \"\\n\")\n",
        "\n",
        "\n",
        "\n"
      ],
      "metadata": {
        "colab": {
          "base_uri": "https://localhost:8080/"
        },
        "id": "E5sPeijRORi-",
        "outputId": "7d70d5de-1874-4d32-906d-41e4ac9dc5d8"
      },
      "execution_count": 11,
      "outputs": [
        {
          "output_type": "stream",
          "name": "stdout",
          "text": [
            "An empty array is \n",
            " [[5.e-323 5.e-323]\n",
            " [5.e-323 5.e-323]] with dimension  (2, 2) \n",
            "\n",
            "An zeros array is \n",
            " [[0. 0. 0.]\n",
            " [0. 0. 0.]] with dimension  (2, 3) \n",
            "\n",
            "An ones array is \n",
            " [[1. 1.]\n",
            " [1. 1.]\n",
            " [1. 1.]\n",
            " [1. 1.]] with dimension  (4, 2) \n",
            "\n",
            "A filled array is \n",
            " [[10 10]\n",
            " [10 10]] with dimension  (2, 2) \n",
            "\n",
            "A zeros like array is \n",
            " [[0. 0.]\n",
            " [0. 0.]\n",
            " [0. 0.]\n",
            " [0. 0.]] with dimension  (4, 2) \n",
            "\n",
            "A full like array is \n",
            " [[0.1 0.1 0.1]\n",
            " [0.1 0.1 0.1]] with dimension  (2, 3) \n",
            "\n"
          ]
        }
      ]
    },
    {
      "cell_type": "markdown",
      "source": [
        "###b. Create an array from existing data"
      ],
      "metadata": {
        "id": "7SOIdB6pQluT"
      }
    },
    {
      "cell_type": "code",
      "source": [
        "# initialize an array with the given list\n",
        "\n",
        "new_list = [1, 2, 3, 4]\n",
        "arr_from_list = np.array(new_list)\n",
        "print(\"An array from given list is \\n\", arr_from_list, \"with dimensions\", arr_from_list.shape, \"\\n\")"
      ],
      "metadata": {
        "colab": {
          "base_uri": "https://localhost:8080/"
        },
        "id": "tVHr66ywO_In",
        "outputId": "ee829575-83e8-43c5-d340-5007315739e3"
      },
      "execution_count": 12,
      "outputs": [
        {
          "output_type": "stream",
          "name": "stdout",
          "text": [
            "An array from given list is \n",
            " [1 2 3 4] with dimensions (4,) \n",
            "\n"
          ]
        }
      ]
    },
    {
      "cell_type": "code",
      "source": [
        "# initialized an arrat by loading data from a txt file\n",
        "txt_arr = np.loadtxt(path_to_txt_file)\n",
        "\n",
        "# initialize an array by loading data from a npy file\n",
        "loaded_arr = np.load(path_to_npy_file)\n"
      ],
      "metadata": {
        "id": "jcPuKdXRRAbK"
      },
      "execution_count": null,
      "outputs": []
    },
    {
      "cell_type": "markdown",
      "source": [
        "###c. Numerical ranges"
      ],
      "metadata": {
        "id": "xHtNm9IiRtI_"
      }
    },
    {
      "cell_type": "code",
      "source": [
        "# return evenly spaced values within a given interval\n",
        "range_arr = np.arange(10)\n",
        "print(\"An array given range is \\n\", range_arr, \"with dimensions\", range_arr.shape, \"\\n\")\n",
        "\n",
        "# return evenly spaced numbers over a specified interval\n",
        "linspace_arr = np.linspace(2.0,3.0,num=5, endpoint=True)\n",
        "print(\"An evenly space array given range is \\n\", linspace_arr, \"with dimensions\", linspace_arr.shape, \"\\n\")\n"
      ],
      "metadata": {
        "colab": {
          "base_uri": "https://localhost:8080/"
        },
        "id": "vHvoiKWVRqCK",
        "outputId": "754c7cb0-25af-4fd6-a0cc-34796cbbdb58"
      },
      "execution_count": 15,
      "outputs": [
        {
          "output_type": "stream",
          "name": "stdout",
          "text": [
            "An array given range is \n",
            " [0 1 2 3 4 5 6 7 8 9] with dimensions (10,) \n",
            "\n",
            "An evenly space array given range is \n",
            " [2.   2.25 2.5  2.75 3.  ] with dimensions (5,) \n",
            "\n"
          ]
        }
      ]
    },
    {
      "cell_type": "markdown",
      "source": [
        "###d. Create an array with random values"
      ],
      "metadata": {
        "id": "RUO9xXuySgOo"
      }
    },
    {
      "cell_type": "code",
      "source": [
        "uniform_rand_arr = np.random.rand(3,2)\n",
        "print(\"An random array given range is \\n\", uniform_rand_arr, \"with dimensions\", uniform_rand_arr.shape, \"\\n\")\n",
        "\n",
        "range_rand_int_arr = np.random.randint(5,size=(2,4))\n",
        "print(range_rand_int_arr)\n",
        "\n",
        "mu =3\n",
        "sigma = 2.5\n",
        "sample_norm_arr = mu + sigma*np.random.randn(2,4)\n",
        "\n",
        "print(sample_norm_arr)"
      ],
      "metadata": {
        "colab": {
          "base_uri": "https://localhost:8080/"
        },
        "id": "G8kDCCd2Sa7D",
        "outputId": "c03c9548-2a4b-47c8-8080-b163472fe6cb"
      },
      "execution_count": 19,
      "outputs": [
        {
          "output_type": "stream",
          "name": "stdout",
          "text": [
            "An random array given range is \n",
            " [[0.83261985 0.77815675]\n",
            " [0.87001215 0.97861834]\n",
            " [0.79915856 0.46147936]] with dimensions (3, 2) \n",
            "\n",
            "[[3 3 0 1]\n",
            " [1 1 0 2]]\n",
            "[[-0.90874173  1.58325595  2.39462621  6.78597821]\n",
            " [ 2.1673565   3.11841204  6.65685112  6.83757282]]\n"
          ]
        }
      ]
    },
    {
      "cell_type": "code",
      "source": [
        ""
      ],
      "metadata": {
        "colab": {
          "base_uri": "https://localhost:8080/"
        },
        "id": "Ce_DLZqwSwlH",
        "outputId": "6f249b57-672e-4284-8b81-e9f08788afb5"
      },
      "execution_count": 18,
      "outputs": [
        {
          "output_type": "stream",
          "name": "stdout",
          "text": [
            "[[0 1 1 0]\n",
            " [1 4 3 0]]\n"
          ]
        }
      ]
    },
    {
      "cell_type": "code",
      "source": [
        ""
      ],
      "metadata": {
        "id": "o3lCeKeBTDBH"
      },
      "execution_count": null,
      "outputs": []
    }
  ]
}