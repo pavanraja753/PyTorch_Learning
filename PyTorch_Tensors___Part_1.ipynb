{
  "nbformat": 4,
  "nbformat_minor": 0,
  "metadata": {
    "colab": {
      "name": "PyTorch Tensors _ Part 1.ipynb",
      "provenance": [],
      "toc_visible": true,
      "authorship_tag": "ABX9TyOxKVrAzKqitj8ax6O7V7DB",
      "include_colab_link": true
    },
    "kernelspec": {
      "name": "python3",
      "display_name": "Python 3"
    },
    "language_info": {
      "name": "python"
    },
    "accelerator": "GPU"
  },
  "cells": [
    {
      "cell_type": "markdown",
      "metadata": {
        "id": "view-in-github",
        "colab_type": "text"
      },
      "source": [
        "<a href=\"https://colab.research.google.com/github/pavanraja753/PyTorch_Learning/blob/main/PyTorch_Tensors___Part_1.ipynb\" target=\"_parent\"><img src=\"https://colab.research.google.com/assets/colab-badge.svg\" alt=\"Open In Colab\"/></a>"
      ]
    },
    {
      "cell_type": "code",
      "execution_count": 1,
      "metadata": {
        "id": "a9lV_4Z_Kg0k"
      },
      "outputs": [],
      "source": [
        "import torch"
      ]
    },
    {
      "cell_type": "code",
      "source": [
        "# \n",
        "\n",
        "device = torch.cuda.is_available()\n",
        "print(device)"
      ],
      "metadata": {
        "colab": {
          "base_uri": "https://localhost:8080/"
        },
        "id": "0MZmRhVlLXYH",
        "outputId": "bfd472b8-84a6-4dc3-b926-0778c2201ea0"
      },
      "execution_count": 2,
      "outputs": [
        {
          "output_type": "stream",
          "name": "stdout",
          "text": [
            "True\n"
          ]
        }
      ]
    },
    {
      "cell_type": "markdown",
      "source": [
        "# Tensor creation"
      ],
      "metadata": {
        "id": "VQX8iJ36Lmv6"
      }
    },
    {
      "cell_type": "code",
      "source": [
        "t1 = torch.ones(size=(5,3))\n",
        "print(t1)\n",
        "\n",
        "t2 = torch.zeros(size=(5,3))\n",
        "print(t2)\n",
        "\n",
        "t3 = torch.eye(4)\n",
        "print(t3)\n",
        "\n",
        "t4 = torch.rand(size=(3,4))\n",
        "print(t4)"
      ],
      "metadata": {
        "colab": {
          "base_uri": "https://localhost:8080/"
        },
        "id": "C8pyyKrZLj81",
        "outputId": "a66fd896-86b2-4173-f3fa-f79c0923ba18"
      },
      "execution_count": 3,
      "outputs": [
        {
          "output_type": "stream",
          "name": "stdout",
          "text": [
            "tensor([[1., 1., 1.],\n",
            "        [1., 1., 1.],\n",
            "        [1., 1., 1.],\n",
            "        [1., 1., 1.],\n",
            "        [1., 1., 1.]])\n",
            "tensor([[0., 0., 0.],\n",
            "        [0., 0., 0.],\n",
            "        [0., 0., 0.],\n",
            "        [0., 0., 0.],\n",
            "        [0., 0., 0.]])\n",
            "tensor([[1., 0., 0., 0.],\n",
            "        [0., 1., 0., 0.],\n",
            "        [0., 0., 1., 0.],\n",
            "        [0., 0., 0., 1.]])\n",
            "tensor([[0.8444, 0.8931, 0.5763, 0.5827],\n",
            "        [0.0963, 0.0121, 0.6119, 0.5915],\n",
            "        [0.5880, 0.2537, 0.8527, 0.3123]])\n"
          ]
        }
      ]
    },
    {
      "cell_type": "markdown",
      "source": [
        "# Creating tensors from existing data"
      ],
      "metadata": {
        "id": "l5_6l1wRNJCc"
      }
    },
    {
      "cell_type": "code",
      "source": [
        "import numpy as np\n",
        "\n",
        "t1 = torch.tensor([1,2,3,4])  # creating from a Python list\n",
        "print(t1.shape)\n",
        "\n",
        "t2 = torch.tensor([[1],[2],[3],[4]])  # creating from a Python list\n",
        "print(t2.shape)\n",
        "t2 = torch.tensor(np.array([1,2,3,4])) # creating for a Numpy arrray\n",
        "\n",
        "t3 = t2.clone()  # cloning for a existing tensor\n",
        "print(t3)"
      ],
      "metadata": {
        "colab": {
          "base_uri": "https://localhost:8080/"
        },
        "id": "YpkN775ELzr8",
        "outputId": "d3472313-158f-475f-9e95-e337c68b1e4f"
      },
      "execution_count": 4,
      "outputs": [
        {
          "output_type": "stream",
          "name": "stdout",
          "text": [
            "torch.Size([4])\n",
            "torch.Size([4, 1])\n",
            "tensor([1, 2, 3, 4])\n"
          ]
        }
      ]
    },
    {
      "cell_type": "markdown",
      "source": [
        "# Tensor conversion"
      ],
      "metadata": {
        "id": "WU83a6ShOqF6"
      }
    },
    {
      "cell_type": "code",
      "source": [
        "# create a numpy array\n",
        "np_array = np.array([1,2,3,4])\n",
        "print(np_array)\n",
        "print(type(np_array), np_array.dtype)\n",
        "\n",
        "# from numpy array\n",
        "torch_tensor = torch.from_numpy(np_array)\n",
        "print(torch_tensor)\n",
        "print(type(torch_tensor), torch_tensor.dtype)\n",
        "\n",
        "\n",
        "# Changing datatype of torch tensor\n",
        "print(torch_tensor.float(),torch_tensor.float().dtype)\n",
        "print(torch_tensor.double())\n",
        "\n",
        "# In case if you pushed to CUDA use torch.cuda.DoubleTensor()"
      ],
      "metadata": {
        "colab": {
          "base_uri": "https://localhost:8080/"
        },
        "id": "G36a2zk3NpRg",
        "outputId": "cec4374c-e61d-465b-e232-6caf9235bf37"
      },
      "execution_count": 5,
      "outputs": [
        {
          "output_type": "stream",
          "name": "stdout",
          "text": [
            "[1 2 3 4]\n",
            "<class 'numpy.ndarray'> int64\n",
            "tensor([1, 2, 3, 4])\n",
            "<class 'torch.Tensor'> torch.int64\n",
            "tensor([1., 2., 3., 4.]) torch.float32\n",
            "tensor([1., 2., 3., 4.], dtype=torch.float64)\n"
          ]
        }
      ]
    },
    {
      "cell_type": "code",
      "source": [
        "# convert tensor to a numpy array\n",
        "\n",
        "t1 = torch.tensor([1,2,3,4])\n",
        "print(t1)\n",
        "t1 = t1.detach().numpy()\n",
        "print(t1.dtype)"
      ],
      "metadata": {
        "colab": {
          "base_uri": "https://localhost:8080/"
        },
        "id": "rnCfID7lO4Gr",
        "outputId": "1dee46c7-11a0-45a8-ccbf-aa3cd16ddaa1"
      },
      "execution_count": 6,
      "outputs": [
        {
          "output_type": "stream",
          "name": "stdout",
          "text": [
            "tensor([1, 2, 3, 4])\n",
            "int64\n"
          ]
        }
      ]
    },
    {
      "cell_type": "markdown",
      "source": [
        "# Pushing the Data to the Device"
      ],
      "metadata": {
        "id": "430iv-i8aGoy"
      }
    },
    {
      "cell_type": "code",
      "source": [
        "device = torch.device('cuda' if torch.cuda.is_available() else 'cpu')\n",
        "print(device)\n",
        "t1 = torch.tensor(t1)\n",
        "# pushing tesnort to the device\n",
        "t1 = t1.to(device)"
      ],
      "metadata": {
        "colab": {
          "base_uri": "https://localhost:8080/"
        },
        "id": "Q6cFT3WYZ9qr",
        "outputId": "18807786-0783-4344-fe2c-a2712d6b4f82"
      },
      "execution_count": 8,
      "outputs": [
        {
          "output_type": "stream",
          "name": "stdout",
          "text": [
            "cuda\n"
          ]
        }
      ]
    },
    {
      "cell_type": "markdown",
      "source": [
        "# Tensor Indexing"
      ],
      "metadata": {
        "id": "CGa7yfaGaspE"
      }
    },
    {
      "cell_type": "code",
      "source": [
        "# Basic\n",
        "t = torch.rand(size=(3,4,5))  # 3D tensor\n",
        "\n",
        "print('Original Tensor t:')\n",
        "print(t)\n",
        "print('\\n')\n",
        "\n",
        "# some ways of accessing element of a tensor\n",
        "\n",
        "print('t[0][0][0]\\n', t[0][0][0])\n",
        "print('t[1,2,3]\\n', t[1,2,3])\n",
        "print('t[-1,-1][-1]',t[-1,-1][-1])\n"
      ],
      "metadata": {
        "colab": {
          "base_uri": "https://localhost:8080/"
        },
        "id": "7bVvvMEwaaR_",
        "outputId": "5e1256c7-2d99-4e5c-dca3-b1d02a94f6b2"
      },
      "execution_count": 11,
      "outputs": [
        {
          "output_type": "stream",
          "name": "stdout",
          "text": [
            "Original Tensor t:\n",
            "tensor([[[0.9018, 0.2825, 0.5923, 0.3527, 0.4381],\n",
            "         [0.2255, 0.0499, 0.9788, 0.8467, 0.9255],\n",
            "         [0.8004, 0.0746, 0.5842, 0.5955, 0.9045],\n",
            "         [0.3769, 0.7529, 0.6797, 0.7735, 0.7761]],\n",
            "\n",
            "        [[0.2528, 0.7297, 0.3520, 0.2985, 0.8000],\n",
            "         [0.9105, 0.1512, 0.3752, 0.3066, 0.7762],\n",
            "         [0.3387, 0.3875, 0.1329, 0.6678, 0.1088],\n",
            "         [0.0272, 0.7467, 0.3765, 0.7073, 0.1672]],\n",
            "\n",
            "        [[0.4470, 0.7320, 0.2334, 0.0687, 0.8031],\n",
            "         [0.7911, 0.8700, 0.9020, 0.8947, 0.4526],\n",
            "         [0.0800, 0.9231, 0.4980, 0.3901, 0.0589],\n",
            "         [0.5293, 0.3215, 0.7646, 0.5023, 0.7999]]])\n",
            "\n",
            "\n",
            "t[0][0][0]\n",
            " tensor(0.9018)\n",
            "t[1,2,3]\n",
            " tensor(0.6678)\n",
            "t[-1,-1][-1] tensor(0.7999)\n"
          ]
        }
      ]
    },
    {
      "cell_type": "markdown",
      "source": [
        "# Tensor Slicing"
      ],
      "metadata": {
        "id": "cuEK9J4Ebh8x"
      }
    },
    {
      "cell_type": "code",
      "source": [
        "print('Original Tensor t:')\n",
        "print(t)\n",
        "print('\\n')\n",
        "\n",
        "print('t[0]\\n',t[0])\n",
        "print('t[:1]\\n',t[:1])\n",
        "print('t[:,1]\\n',t[:,1])\n",
        "print('t[:,:,3]',t[:,:,3])"
      ],
      "metadata": {
        "colab": {
          "base_uri": "https://localhost:8080/"
        },
        "id": "_s9Br6wzbNHH",
        "outputId": "f82710e2-2af1-4bc2-dbfc-18bf3c8d867b"
      },
      "execution_count": 13,
      "outputs": [
        {
          "output_type": "stream",
          "name": "stdout",
          "text": [
            "Original Tensor t:\n",
            "tensor([[[0.9018, 0.2825, 0.5923, 0.3527, 0.4381],\n",
            "         [0.2255, 0.0499, 0.9788, 0.8467, 0.9255],\n",
            "         [0.8004, 0.0746, 0.5842, 0.5955, 0.9045],\n",
            "         [0.3769, 0.7529, 0.6797, 0.7735, 0.7761]],\n",
            "\n",
            "        [[0.2528, 0.7297, 0.3520, 0.2985, 0.8000],\n",
            "         [0.9105, 0.1512, 0.3752, 0.3066, 0.7762],\n",
            "         [0.3387, 0.3875, 0.1329, 0.6678, 0.1088],\n",
            "         [0.0272, 0.7467, 0.3765, 0.7073, 0.1672]],\n",
            "\n",
            "        [[0.4470, 0.7320, 0.2334, 0.0687, 0.8031],\n",
            "         [0.7911, 0.8700, 0.9020, 0.8947, 0.4526],\n",
            "         [0.0800, 0.9231, 0.4980, 0.3901, 0.0589],\n",
            "         [0.5293, 0.3215, 0.7646, 0.5023, 0.7999]]])\n",
            "\n",
            "\n",
            "t[0]\n",
            " tensor([[0.9018, 0.2825, 0.5923, 0.3527, 0.4381],\n",
            "        [0.2255, 0.0499, 0.9788, 0.8467, 0.9255],\n",
            "        [0.8004, 0.0746, 0.5842, 0.5955, 0.9045],\n",
            "        [0.3769, 0.7529, 0.6797, 0.7735, 0.7761]])\n",
            "t[:1]\n",
            " tensor([[[0.9018, 0.2825, 0.5923, 0.3527, 0.4381],\n",
            "         [0.2255, 0.0499, 0.9788, 0.8467, 0.9255],\n",
            "         [0.8004, 0.0746, 0.5842, 0.5955, 0.9045],\n",
            "         [0.3769, 0.7529, 0.6797, 0.7735, 0.7761]]])\n",
            "t[:,1]\n",
            " tensor([[0.2255, 0.0499, 0.9788, 0.8467, 0.9255],\n",
            "        [0.9105, 0.1512, 0.3752, 0.3066, 0.7762],\n",
            "        [0.7911, 0.8700, 0.9020, 0.8947, 0.4526]])\n",
            "t[:,:,3] tensor([[0.3527, 0.8467, 0.5955, 0.7735],\n",
            "        [0.2985, 0.3066, 0.6678, 0.7073],\n",
            "        [0.0687, 0.8947, 0.3901, 0.5023]])\n"
          ]
        }
      ]
    },
    {
      "cell_type": "markdown",
      "source": [
        "# Pivoting and Reshaping"
      ],
      "metadata": {
        "id": "__si5WTxinj-"
      }
    },
    {
      "cell_type": "markdown",
      "source": [
        "1. Flatten\n",
        "2. Squeeze\n",
        "3. Reshape\n",
        "4. View\n",
        "5. Transpose\n",
        "6. Permute"
      ],
      "metadata": {
        "id": "Qzd__Qe2ir0R"
      }
    },
    {
      "cell_type": "markdown",
      "source": [
        "1. Flatten: Changes the multi-dimensional tensor into a single dimension"
      ],
      "metadata": {
        "id": "61aYgFuxi1UO"
      }
    },
    {
      "cell_type": "code",
      "source": [
        "t = torch.randn(size=(3,4,5))   # 3D Tensor\n",
        "print(t)\n",
        "print(t.shape)\n",
        "print(t.flatten(1,2))\n",
        "print(t.flatten().shape)"
      ],
      "metadata": {
        "colab": {
          "base_uri": "https://localhost:8080/"
        },
        "id": "W0ZSX3Abhona",
        "outputId": "e9661637-aac7-4360-d00d-d2368d7dbddf"
      },
      "execution_count": 16,
      "outputs": [
        {
          "output_type": "stream",
          "name": "stdout",
          "text": [
            "tensor([[[-0.2295, -1.5913, -0.9388, -0.0113,  0.2115],\n",
            "         [-0.8163, -0.9424,  0.6183,  0.2151,  0.9767],\n",
            "         [ 0.1886, -0.0236, -0.8667,  0.0425, -1.6082],\n",
            "         [-0.1309,  0.7314,  0.4466, -0.8799, -0.8885]],\n",
            "\n",
            "        [[ 1.6413,  0.0056,  2.2351, -0.5931,  0.3980],\n",
            "         [ 0.7614, -0.2289,  0.8537, -0.7683,  0.6828],\n",
            "         [-0.6399, -0.9252,  1.4009,  1.0028,  0.4555],\n",
            "         [-0.4120, -0.2248,  0.3837, -2.5895,  0.4375]],\n",
            "\n",
            "        [[ 0.0888, -1.9100, -1.4716, -1.5500,  0.9803],\n",
            "         [ 0.0748,  0.0696,  0.0161,  0.9203,  1.1715],\n",
            "         [-2.7649, -1.2428,  0.0556,  2.0267,  0.3741],\n",
            "         [ 0.5431,  2.0843, -0.7382, -0.3763, -0.1481]]])\n",
            "torch.Size([3, 4, 5])\n",
            "tensor([[-0.2295, -1.5913, -0.9388, -0.0113,  0.2115, -0.8163, -0.9424,  0.6183,\n",
            "          0.2151,  0.9767,  0.1886, -0.0236, -0.8667,  0.0425, -1.6082, -0.1309,\n",
            "          0.7314,  0.4466, -0.8799, -0.8885],\n",
            "        [ 1.6413,  0.0056,  2.2351, -0.5931,  0.3980,  0.7614, -0.2289,  0.8537,\n",
            "         -0.7683,  0.6828, -0.6399, -0.9252,  1.4009,  1.0028,  0.4555, -0.4120,\n",
            "         -0.2248,  0.3837, -2.5895,  0.4375],\n",
            "        [ 0.0888, -1.9100, -1.4716, -1.5500,  0.9803,  0.0748,  0.0696,  0.0161,\n",
            "          0.9203,  1.1715, -2.7649, -1.2428,  0.0556,  2.0267,  0.3741,  0.5431,\n",
            "          2.0843, -0.7382, -0.3763, -0.1481]])\n",
            "torch.Size([60])\n"
          ]
        }
      ]
    },
    {
      "cell_type": "markdown",
      "source": [
        "# Squeeeze and Unsqueeze: To add or remove a dimension in tensor"
      ],
      "metadata": {
        "id": "e1Mo_2iQjbRg"
      }
    },
    {
      "cell_type": "code",
      "source": [
        "t = torch.rand(size=(3,4,5))\n",
        "ts = t.unsqueeze(dim=0)   # Unsqueeze alon the dimension 0\n",
        "ts2 = t.unsqueeze(dim=1)  # Unsqueeze alon the dimension 1\n",
        "\n",
        "print(ts)\n",
        "print('original tensor shape',t.shape)\n",
        "print('Unsqueeze along the dimension 0',ts.shape)\n",
        "print('Unsqueeze along the dimension 1',ts2.shape)"
      ],
      "metadata": {
        "colab": {
          "base_uri": "https://localhost:8080/"
        },
        "id": "BWcRX0wxjInA",
        "outputId": "bb7102c5-d55a-4340-8030-963ce35d7965"
      },
      "execution_count": 18,
      "outputs": [
        {
          "output_type": "stream",
          "name": "stdout",
          "text": [
            "tensor([[[[0.6525, 0.7022, 0.8698, 0.4752, 0.9497],\n",
            "          [0.5228, 0.3384, 0.1751, 0.6933, 0.8479],\n",
            "          [0.2868, 0.7380, 0.6363, 0.4254, 0.5094],\n",
            "          [0.4419, 0.4000, 0.1153, 0.3401, 0.1586]],\n",
            "\n",
            "         [[0.6131, 0.5780, 0.2181, 0.7380, 0.3282],\n",
            "          [0.3327, 0.5607, 0.8984, 0.0507, 0.9977],\n",
            "          [0.3424, 0.1674, 0.1644, 0.6131, 0.1852],\n",
            "          [0.6609, 0.7541, 0.2911, 0.0954, 0.8175]],\n",
            "\n",
            "         [[0.6636, 0.1768, 0.7067, 0.8382, 0.8208],\n",
            "          [0.1966, 0.5817, 0.7261, 0.2586, 0.4015],\n",
            "          [0.3789, 0.0240, 0.1021, 0.5406, 0.4957],\n",
            "          [0.6060, 0.1787, 0.5448, 0.9549, 0.6101]]]])\n",
            "original tensor shape torch.Size([3, 4, 5])\n",
            "Unsqueeze along the dimension 0 torch.Size([1, 3, 4, 5])\n",
            "Unsqueeze along the dimension 1 torch.Size([3, 1, 4, 5])\n"
          ]
        }
      ]
    },
    {
      "cell_type": "markdown",
      "source": [
        "# Squeeze Tensor"
      ],
      "metadata": {
        "id": "J7a3VwLtkgIQ"
      }
    },
    {
      "cell_type": "markdown",
      "source": [
        "Removes empty dimensions from a tensor"
      ],
      "metadata": {
        "id": "9TJaOx0Hl7Zg"
      }
    },
    {
      "cell_type": "code",
      "source": [
        "print(ts.squeeze(0))\n",
        "print('ts.squeeze(0).shape',ts.squeeze(0).shape)\n",
        "\n",
        "print(ts2.squeeze(1))\n",
        "print('ts2.squeeze(1).shape',ts2.squeeze(1).shape)"
      ],
      "metadata": {
        "colab": {
          "base_uri": "https://localhost:8080/"
        },
        "id": "GFIDfWV6kNT0",
        "outputId": "e6e0ba4d-f664-42fe-ca32-c454ff8074ba"
      },
      "execution_count": 21,
      "outputs": [
        {
          "output_type": "stream",
          "name": "stdout",
          "text": [
            "tensor([[[0.6525, 0.7022, 0.8698, 0.4752, 0.9497],\n",
            "         [0.5228, 0.3384, 0.1751, 0.6933, 0.8479],\n",
            "         [0.2868, 0.7380, 0.6363, 0.4254, 0.5094],\n",
            "         [0.4419, 0.4000, 0.1153, 0.3401, 0.1586]],\n",
            "\n",
            "        [[0.6131, 0.5780, 0.2181, 0.7380, 0.3282],\n",
            "         [0.3327, 0.5607, 0.8984, 0.0507, 0.9977],\n",
            "         [0.3424, 0.1674, 0.1644, 0.6131, 0.1852],\n",
            "         [0.6609, 0.7541, 0.2911, 0.0954, 0.8175]],\n",
            "\n",
            "        [[0.6636, 0.1768, 0.7067, 0.8382, 0.8208],\n",
            "         [0.1966, 0.5817, 0.7261, 0.2586, 0.4015],\n",
            "         [0.3789, 0.0240, 0.1021, 0.5406, 0.4957],\n",
            "         [0.6060, 0.1787, 0.5448, 0.9549, 0.6101]]])\n",
            "ts.squeeze(0).shape torch.Size([3, 4, 5])\n",
            "tensor([[[0.6525, 0.7022, 0.8698, 0.4752, 0.9497],\n",
            "         [0.5228, 0.3384, 0.1751, 0.6933, 0.8479],\n",
            "         [0.2868, 0.7380, 0.6363, 0.4254, 0.5094],\n",
            "         [0.4419, 0.4000, 0.1153, 0.3401, 0.1586]],\n",
            "\n",
            "        [[0.6131, 0.5780, 0.2181, 0.7380, 0.3282],\n",
            "         [0.3327, 0.5607, 0.8984, 0.0507, 0.9977],\n",
            "         [0.3424, 0.1674, 0.1644, 0.6131, 0.1852],\n",
            "         [0.6609, 0.7541, 0.2911, 0.0954, 0.8175]],\n",
            "\n",
            "        [[0.6636, 0.1768, 0.7067, 0.8382, 0.8208],\n",
            "         [0.1966, 0.5817, 0.7261, 0.2586, 0.4015],\n",
            "         [0.3789, 0.0240, 0.1021, 0.5406, 0.4957],\n",
            "         [0.6060, 0.1787, 0.5448, 0.9549, 0.6101]]])\n",
            "ts2.squeeze(1).shape torch.Size([3, 4, 5])\n"
          ]
        }
      ]
    },
    {
      "cell_type": "markdown",
      "source": [
        "# Reshpe function\n",
        "\n",
        "Changes the shape of a tensor"
      ],
      "metadata": {
        "id": "mt8VIM7vmcja"
      }
    },
    {
      "cell_type": "code",
      "source": [
        "print('Original tensor shape',t.shape)\n",
        "print(t.reshape((12,5)),t.reshape(12,5).shape)\n",
        "print(t.reshape((12,-1)),t.reshape(12,-1).shape)\n",
        "\n",
        "print(t.reshape((5,4,3)),t.reshape(5,4,3).shape)\n",
        "\n",
        "print(t.reshape((-1)),t.reshape(-1).shape)"
      ],
      "metadata": {
        "colab": {
          "base_uri": "https://localhost:8080/"
        },
        "id": "dCrQCH7-mOcz",
        "outputId": "294df6bb-3e4b-463c-fcef-9d8cebc659d0"
      },
      "execution_count": 26,
      "outputs": [
        {
          "output_type": "stream",
          "name": "stdout",
          "text": [
            "Original tensor shape torch.Size([3, 4, 5])\n",
            "tensor([[0.6525, 0.7022, 0.8698, 0.4752, 0.9497],\n",
            "        [0.5228, 0.3384, 0.1751, 0.6933, 0.8479],\n",
            "        [0.2868, 0.7380, 0.6363, 0.4254, 0.5094],\n",
            "        [0.4419, 0.4000, 0.1153, 0.3401, 0.1586],\n",
            "        [0.6131, 0.5780, 0.2181, 0.7380, 0.3282],\n",
            "        [0.3327, 0.5607, 0.8984, 0.0507, 0.9977],\n",
            "        [0.3424, 0.1674, 0.1644, 0.6131, 0.1852],\n",
            "        [0.6609, 0.7541, 0.2911, 0.0954, 0.8175],\n",
            "        [0.6636, 0.1768, 0.7067, 0.8382, 0.8208],\n",
            "        [0.1966, 0.5817, 0.7261, 0.2586, 0.4015],\n",
            "        [0.3789, 0.0240, 0.1021, 0.5406, 0.4957],\n",
            "        [0.6060, 0.1787, 0.5448, 0.9549, 0.6101]]) torch.Size([12, 5])\n",
            "tensor([[0.6525, 0.7022, 0.8698, 0.4752, 0.9497],\n",
            "        [0.5228, 0.3384, 0.1751, 0.6933, 0.8479],\n",
            "        [0.2868, 0.7380, 0.6363, 0.4254, 0.5094],\n",
            "        [0.4419, 0.4000, 0.1153, 0.3401, 0.1586],\n",
            "        [0.6131, 0.5780, 0.2181, 0.7380, 0.3282],\n",
            "        [0.3327, 0.5607, 0.8984, 0.0507, 0.9977],\n",
            "        [0.3424, 0.1674, 0.1644, 0.6131, 0.1852],\n",
            "        [0.6609, 0.7541, 0.2911, 0.0954, 0.8175],\n",
            "        [0.6636, 0.1768, 0.7067, 0.8382, 0.8208],\n",
            "        [0.1966, 0.5817, 0.7261, 0.2586, 0.4015],\n",
            "        [0.3789, 0.0240, 0.1021, 0.5406, 0.4957],\n",
            "        [0.6060, 0.1787, 0.5448, 0.9549, 0.6101]]) torch.Size([12, 5])\n",
            "tensor([[[0.6525, 0.7022, 0.8698],\n",
            "         [0.4752, 0.9497, 0.5228],\n",
            "         [0.3384, 0.1751, 0.6933],\n",
            "         [0.8479, 0.2868, 0.7380]],\n",
            "\n",
            "        [[0.6363, 0.4254, 0.5094],\n",
            "         [0.4419, 0.4000, 0.1153],\n",
            "         [0.3401, 0.1586, 0.6131],\n",
            "         [0.5780, 0.2181, 0.7380]],\n",
            "\n",
            "        [[0.3282, 0.3327, 0.5607],\n",
            "         [0.8984, 0.0507, 0.9977],\n",
            "         [0.3424, 0.1674, 0.1644],\n",
            "         [0.6131, 0.1852, 0.6609]],\n",
            "\n",
            "        [[0.7541, 0.2911, 0.0954],\n",
            "         [0.8175, 0.6636, 0.1768],\n",
            "         [0.7067, 0.8382, 0.8208],\n",
            "         [0.1966, 0.5817, 0.7261]],\n",
            "\n",
            "        [[0.2586, 0.4015, 0.3789],\n",
            "         [0.0240, 0.1021, 0.5406],\n",
            "         [0.4957, 0.6060, 0.1787],\n",
            "         [0.5448, 0.9549, 0.6101]]]) torch.Size([5, 4, 3])\n",
            "tensor([0.6525, 0.7022, 0.8698, 0.4752, 0.9497, 0.5228, 0.3384, 0.1751, 0.6933,\n",
            "        0.8479, 0.2868, 0.7380, 0.6363, 0.4254, 0.5094, 0.4419, 0.4000, 0.1153,\n",
            "        0.3401, 0.1586, 0.6131, 0.5780, 0.2181, 0.7380, 0.3282, 0.3327, 0.5607,\n",
            "        0.8984, 0.0507, 0.9977, 0.3424, 0.1674, 0.1644, 0.6131, 0.1852, 0.6609,\n",
            "        0.7541, 0.2911, 0.0954, 0.8175, 0.6636, 0.1768, 0.7067, 0.8382, 0.8208,\n",
            "        0.1966, 0.5817, 0.7261, 0.2586, 0.4015, 0.3789, 0.0240, 0.1021, 0.5406,\n",
            "        0.4957, 0.6060, 0.1787, 0.5448, 0.9549, 0.6101]) torch.Size([60])\n"
          ]
        }
      ]
    },
    {
      "cell_type": "markdown",
      "source": [
        "# View function:\n",
        "\n",
        "Similar to reshape function"
      ],
      "metadata": {
        "id": "1kad9ZclnR_D"
      }
    },
    {
      "cell_type": "markdown",
      "source": [
        "# Transpose function\n",
        "\n",
        "This function is a generalization of general matrix transpose"
      ],
      "metadata": {
        "id": "nE3f4uDknaOa"
      }
    },
    {
      "cell_type": "code",
      "source": [
        "t = torch.rand(size=(2,3,4))\n",
        "print(t.shape)\n",
        "print(t)\n",
        "print('\\n')\n",
        "\n",
        "print(t.transpose(0,1).shape)\n",
        "print(t.transpose(0,2).shape)"
      ],
      "metadata": {
        "colab": {
          "base_uri": "https://localhost:8080/"
        },
        "id": "8jnXcG-HmlhO",
        "outputId": "018fabc4-bd96-46eb-d7b6-081629a20fe9"
      },
      "execution_count": 30,
      "outputs": [
        {
          "output_type": "stream",
          "name": "stdout",
          "text": [
            "torch.Size([2, 3, 4])\n",
            "tensor([[[0.1748, 0.0886, 0.9741, 0.6835],\n",
            "         [0.0705, 0.6374, 0.1743, 0.6882],\n",
            "         [0.6738, 0.6063, 0.3248, 0.8809]],\n",
            "\n",
            "        [[0.1757, 0.9269, 0.1621, 0.5608],\n",
            "         [0.6632, 0.8344, 0.4956, 0.2656],\n",
            "         [0.3466, 0.3624, 0.8436, 0.3123]]])\n",
            "\n",
            "\n",
            "torch.Size([3, 2, 4])\n",
            "torch.Size([4, 3, 2])\n"
          ]
        }
      ]
    },
    {
      "cell_type": "markdown",
      "source": [
        "# Permute tensor\n",
        "\n",
        "similar to transpose, transpose onle two axis"
      ],
      "metadata": {
        "id": "3hc30a45pnC9"
      }
    },
    {
      "cell_type": "code",
      "source": [
        "print(t.permute(1,0,2).shape)"
      ],
      "metadata": {
        "colab": {
          "base_uri": "https://localhost:8080/"
        },
        "id": "GF0ENZgBn6HT",
        "outputId": "f1005f2d-5b83-4c75-d795-53ef8835b822"
      },
      "execution_count": 32,
      "outputs": [
        {
          "output_type": "stream",
          "name": "stdout",
          "text": [
            "torch.Size([3, 2, 4])\n"
          ]
        }
      ]
    },
    {
      "cell_type": "code",
      "source": [
        ""
      ],
      "metadata": {
        "id": "z82-0wxApyTH"
      },
      "execution_count": null,
      "outputs": []
    }
  ]
}